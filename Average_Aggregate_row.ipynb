{
  "nbformat": 4,
  "nbformat_minor": 0,
  "metadata": {
    "colab": {
      "name": "Average_Aggregate_row.ipynb",
      "provenance": []
    },
    "kernelspec": {
      "name": "ir",
      "display_name": "R"
    },
    "language_info": {
      "name": "R"
    }
  },
  "cells": [
    {
      "cell_type": "markdown",
      "source": [
        "The file contains gene names in rows and sample ID in column. for genes, there are total 174596 rows which include empty rows(undefined gene name) and duplicate gene names. Our objective is to combine multiple rows belonging to same gene and taking its mean. \n",
        "the input file: **GSE178967_ZR_NA_col1gene.xlsx** is pre-processed in following ways:\n",
        "1. Sum of each gene  from all samples with value less than 10 expression are removed\n",
        "2. gene rows with empty name renamed as NA using bash script.\n",
        "3. The NA values are not removed in this file but as we wont continue with the NA rows, we will remove the aggregated NA from the output file after aggregate function.\n",
        "\n",
        "\n"
      ],
      "metadata": {
        "id": "p4riPibWGHlI"
      }
    },
    {
      "cell_type": "code",
      "source": [
        "## input object created for the file GSE178967_ZR_NA_col1gene.xlsx with samples in column and genes are in rows\n",
        "input <- read.table(\"/content/GSE178967_ZR_NA_col1gene.txt\",header=T,sep=\"\\t\") "
      ],
      "metadata": {
        "id": "T3OYqseHDr9O"
      },
      "execution_count": null,
      "outputs": []
    },
    {
      "cell_type": "code",
      "source": [
        "dim(input)\n"
      ],
      "metadata": {
        "colab": {
          "base_uri": "https://localhost:8080/",
          "height": 34
        },
        "id": "4xNb3aeialpH",
        "outputId": "ddcb132f-ef1b-413a-bbd2-16472933753f"
      },
      "execution_count": null,
      "outputs": [
        {
          "output_type": "display_data",
          "data": {
            "text/plain": [
              "[1] 174596    181"
            ],
            "text/latex": "\\begin{enumerate*}\n\\item 174596\n\\item 181\n\\end{enumerate*}\n",
            "text/markdown": "1. 174596\n2. 181\n\n\n",
            "text/html": [
              "<style>\n",
              ".list-inline {list-style: none; margin:0; padding: 0}\n",
              ".list-inline>li {display: inline-block}\n",
              ".list-inline>li:not(:last-child)::after {content: \"\\00b7\"; padding: 0 .5ex}\n",
              "</style>\n",
              "<ol class=list-inline><li>174596</li><li>181</li></ol>\n"
            ]
          },
          "metadata": {}
        }
      ]
    },
    {
      "cell_type": "code",
      "source": [
        "head(input)"
      ],
      "metadata": {
        "id": "hj75quKREzQ5",
        "colab": {
          "base_uri": "https://localhost:8080/",
          "height": 306
        },
        "outputId": "2ec4bd2f-ecfb-4f16-dad7-2a7541993a98"
      },
      "execution_count": null,
      "outputs": [
        {
          "output_type": "display_data",
          "data": {
            "text/plain": [
              "  gene       L_136_05 L_173_00 L_112_05 L_282_00  L_133_00  L_150_00  L_210_00 \n",
              "1 HBB        641550.0 327053.0 934848.0 1495980.0 2305850.0 1338130.0 269498.00\n",
              "2 MTRNR2L12  234656.0 356521.0 486621.0  334832.0  331533.0  119703.0  20948.80\n",
              "3 HBA2       207222.0 152607.0 116654.0  344538.0  372509.0  174057.0  41817.30\n",
              "4 HBA1       118331.0  78276.8 138456.0  222374.0  207864.0  119428.0  32616.60\n",
              "5 AC010970.1  59824.0 171416.0  52742.0  110868.0   29916.0   19169.0   8053.00\n",
              "6 PLCG2       61125.5  71365.7  73383.5   93062.4   52323.5   34503.2   7073.39\n",
              "  L_200_00 L_329_00 ⋯ L_215_05 L_138_05 L_327_00 L_006_00  L_303_00 L_228_00\n",
              "1 1949460  6077620  ⋯ 1731570  507926   1906840  1274710.0 682778   1452360 \n",
              "2  360097   712039  ⋯  291622  683470    765457   405682.0 246088    447305 \n",
              "3  590778  1102000  ⋯  329535  354149   1261350   327047.0 181882    517892 \n",
              "4  302592   821682  ⋯  251084  571927   1000010   231825.0 131256    292425 \n",
              "5  205837   560631  ⋯  102411   25960    499182   133197.0 110236    323899 \n",
              "6  126700   225245  ⋯  115325  239707    917641    89763.5 111230    139194 \n",
              "  L_127_05 L_270_00 L_012_05  L_170_00 \n",
              "1 610460.0 622706   1217190.0 1293060.0\n",
              "2 122628.0 778604    210696.0  199614.0\n",
              "3 174779.0 162419    140406.0  230477.0\n",
              "4 110044.0 112814    187562.0  211127.0\n",
              "5  87622.0 405913     42991.0   82390.0\n",
              "6  62708.4 345165     94303.7   94080.8"
            ],
            "text/latex": "A data.frame: 6 × 181\n\\begin{tabular}{r|lllllllllllllllllllll}\n  & gene & L\\_136\\_05 & L\\_173\\_00 & L\\_112\\_05 & L\\_282\\_00 & L\\_133\\_00 & L\\_150\\_00 & L\\_210\\_00 & L\\_200\\_00 & L\\_329\\_00 & ⋯ & L\\_215\\_05 & L\\_138\\_05 & L\\_327\\_00 & L\\_006\\_00 & L\\_303\\_00 & L\\_228\\_00 & L\\_127\\_05 & L\\_270\\_00 & L\\_012\\_05 & L\\_170\\_00\\\\\n  & <chr> & <dbl> & <dbl> & <dbl> & <dbl> & <dbl> & <dbl> & <dbl> & <dbl> & <dbl> & ⋯ & <dbl> & <dbl> & <dbl> & <dbl> & <dbl> & <dbl> & <dbl> & <dbl> & <dbl> & <dbl>\\\\\n\\hline\n\t1 & HBB        & 641550.0 & 327053.0 & 934848.0 & 1495980.0 & 2305850.0 & 1338130.0 & 269498.00 & 1949460 & 6077620 & ⋯ & 1731570 & 507926 & 1906840 & 1274710.0 & 682778 & 1452360 & 610460.0 & 622706 & 1217190.0 & 1293060.0\\\\\n\t2 & MTRNR2L12  & 234656.0 & 356521.0 & 486621.0 &  334832.0 &  331533.0 &  119703.0 &  20948.80 &  360097 &  712039 & ⋯ &  291622 & 683470 &  765457 &  405682.0 & 246088 &  447305 & 122628.0 & 778604 &  210696.0 &  199614.0\\\\\n\t3 & HBA2       & 207222.0 & 152607.0 & 116654.0 &  344538.0 &  372509.0 &  174057.0 &  41817.30 &  590778 & 1102000 & ⋯ &  329535 & 354149 & 1261350 &  327047.0 & 181882 &  517892 & 174779.0 & 162419 &  140406.0 &  230477.0\\\\\n\t4 & HBA1       & 118331.0 &  78276.8 & 138456.0 &  222374.0 &  207864.0 &  119428.0 &  32616.60 &  302592 &  821682 & ⋯ &  251084 & 571927 & 1000010 &  231825.0 & 131256 &  292425 & 110044.0 & 112814 &  187562.0 &  211127.0\\\\\n\t5 & AC010970.1 &  59824.0 & 171416.0 &  52742.0 &  110868.0 &   29916.0 &   19169.0 &   8053.00 &  205837 &  560631 & ⋯ &  102411 &  25960 &  499182 &  133197.0 & 110236 &  323899 &  87622.0 & 405913 &   42991.0 &   82390.0\\\\\n\t6 & PLCG2      &  61125.5 &  71365.7 &  73383.5 &   93062.4 &   52323.5 &   34503.2 &   7073.39 &  126700 &  225245 & ⋯ &  115325 & 239707 &  917641 &   89763.5 & 111230 &  139194 &  62708.4 & 345165 &   94303.7 &   94080.8\\\\\n\\end{tabular}\n",
            "text/markdown": "\nA data.frame: 6 × 181\n\n| <!--/--> | gene &lt;chr&gt; | L_136_05 &lt;dbl&gt; | L_173_00 &lt;dbl&gt; | L_112_05 &lt;dbl&gt; | L_282_00 &lt;dbl&gt; | L_133_00 &lt;dbl&gt; | L_150_00 &lt;dbl&gt; | L_210_00 &lt;dbl&gt; | L_200_00 &lt;dbl&gt; | L_329_00 &lt;dbl&gt; | ⋯ ⋯ | L_215_05 &lt;dbl&gt; | L_138_05 &lt;dbl&gt; | L_327_00 &lt;dbl&gt; | L_006_00 &lt;dbl&gt; | L_303_00 &lt;dbl&gt; | L_228_00 &lt;dbl&gt; | L_127_05 &lt;dbl&gt; | L_270_00 &lt;dbl&gt; | L_012_05 &lt;dbl&gt; | L_170_00 &lt;dbl&gt; |\n|---|---|---|---|---|---|---|---|---|---|---|---|---|---|---|---|---|---|---|---|---|---|\n| 1 | HBB        | 641550.0 | 327053.0 | 934848.0 | 1495980.0 | 2305850.0 | 1338130.0 | 269498.00 | 1949460 | 6077620 | ⋯ | 1731570 | 507926 | 1906840 | 1274710.0 | 682778 | 1452360 | 610460.0 | 622706 | 1217190.0 | 1293060.0 |\n| 2 | MTRNR2L12  | 234656.0 | 356521.0 | 486621.0 |  334832.0 |  331533.0 |  119703.0 |  20948.80 |  360097 |  712039 | ⋯ |  291622 | 683470 |  765457 |  405682.0 | 246088 |  447305 | 122628.0 | 778604 |  210696.0 |  199614.0 |\n| 3 | HBA2       | 207222.0 | 152607.0 | 116654.0 |  344538.0 |  372509.0 |  174057.0 |  41817.30 |  590778 | 1102000 | ⋯ |  329535 | 354149 | 1261350 |  327047.0 | 181882 |  517892 | 174779.0 | 162419 |  140406.0 |  230477.0 |\n| 4 | HBA1       | 118331.0 |  78276.8 | 138456.0 |  222374.0 |  207864.0 |  119428.0 |  32616.60 |  302592 |  821682 | ⋯ |  251084 | 571927 | 1000010 |  231825.0 | 131256 |  292425 | 110044.0 | 112814 |  187562.0 |  211127.0 |\n| 5 | AC010970.1 |  59824.0 | 171416.0 |  52742.0 |  110868.0 |   29916.0 |   19169.0 |   8053.00 |  205837 |  560631 | ⋯ |  102411 |  25960 |  499182 |  133197.0 | 110236 |  323899 |  87622.0 | 405913 |   42991.0 |   82390.0 |\n| 6 | PLCG2      |  61125.5 |  71365.7 |  73383.5 |   93062.4 |   52323.5 |   34503.2 |   7073.39 |  126700 |  225245 | ⋯ |  115325 | 239707 |  917641 |   89763.5 | 111230 |  139194 |  62708.4 | 345165 |   94303.7 |   94080.8 |\n\n",
            "text/html": [
              "<table class=\"dataframe\">\n",
              "<caption>A data.frame: 6 × 181</caption>\n",
              "<thead>\n",
              "\t<tr><th></th><th scope=col>gene</th><th scope=col>L_136_05</th><th scope=col>L_173_00</th><th scope=col>L_112_05</th><th scope=col>L_282_00</th><th scope=col>L_133_00</th><th scope=col>L_150_00</th><th scope=col>L_210_00</th><th scope=col>L_200_00</th><th scope=col>L_329_00</th><th scope=col>⋯</th><th scope=col>L_215_05</th><th scope=col>L_138_05</th><th scope=col>L_327_00</th><th scope=col>L_006_00</th><th scope=col>L_303_00</th><th scope=col>L_228_00</th><th scope=col>L_127_05</th><th scope=col>L_270_00</th><th scope=col>L_012_05</th><th scope=col>L_170_00</th></tr>\n",
              "\t<tr><th></th><th scope=col>&lt;chr&gt;</th><th scope=col>&lt;dbl&gt;</th><th scope=col>&lt;dbl&gt;</th><th scope=col>&lt;dbl&gt;</th><th scope=col>&lt;dbl&gt;</th><th scope=col>&lt;dbl&gt;</th><th scope=col>&lt;dbl&gt;</th><th scope=col>&lt;dbl&gt;</th><th scope=col>&lt;dbl&gt;</th><th scope=col>&lt;dbl&gt;</th><th scope=col>⋯</th><th scope=col>&lt;dbl&gt;</th><th scope=col>&lt;dbl&gt;</th><th scope=col>&lt;dbl&gt;</th><th scope=col>&lt;dbl&gt;</th><th scope=col>&lt;dbl&gt;</th><th scope=col>&lt;dbl&gt;</th><th scope=col>&lt;dbl&gt;</th><th scope=col>&lt;dbl&gt;</th><th scope=col>&lt;dbl&gt;</th><th scope=col>&lt;dbl&gt;</th></tr>\n",
              "</thead>\n",
              "<tbody>\n",
              "\t<tr><th scope=row>1</th><td>HBB       </td><td>641550.0</td><td>327053.0</td><td>934848.0</td><td>1495980.0</td><td>2305850.0</td><td>1338130.0</td><td>269498.00</td><td>1949460</td><td>6077620</td><td>⋯</td><td>1731570</td><td>507926</td><td>1906840</td><td>1274710.0</td><td>682778</td><td>1452360</td><td>610460.0</td><td>622706</td><td>1217190.0</td><td>1293060.0</td></tr>\n",
              "\t<tr><th scope=row>2</th><td>MTRNR2L12 </td><td>234656.0</td><td>356521.0</td><td>486621.0</td><td> 334832.0</td><td> 331533.0</td><td> 119703.0</td><td> 20948.80</td><td> 360097</td><td> 712039</td><td>⋯</td><td> 291622</td><td>683470</td><td> 765457</td><td> 405682.0</td><td>246088</td><td> 447305</td><td>122628.0</td><td>778604</td><td> 210696.0</td><td> 199614.0</td></tr>\n",
              "\t<tr><th scope=row>3</th><td>HBA2      </td><td>207222.0</td><td>152607.0</td><td>116654.0</td><td> 344538.0</td><td> 372509.0</td><td> 174057.0</td><td> 41817.30</td><td> 590778</td><td>1102000</td><td>⋯</td><td> 329535</td><td>354149</td><td>1261350</td><td> 327047.0</td><td>181882</td><td> 517892</td><td>174779.0</td><td>162419</td><td> 140406.0</td><td> 230477.0</td></tr>\n",
              "\t<tr><th scope=row>4</th><td>HBA1      </td><td>118331.0</td><td> 78276.8</td><td>138456.0</td><td> 222374.0</td><td> 207864.0</td><td> 119428.0</td><td> 32616.60</td><td> 302592</td><td> 821682</td><td>⋯</td><td> 251084</td><td>571927</td><td>1000010</td><td> 231825.0</td><td>131256</td><td> 292425</td><td>110044.0</td><td>112814</td><td> 187562.0</td><td> 211127.0</td></tr>\n",
              "\t<tr><th scope=row>5</th><td>AC010970.1</td><td> 59824.0</td><td>171416.0</td><td> 52742.0</td><td> 110868.0</td><td>  29916.0</td><td>  19169.0</td><td>  8053.00</td><td> 205837</td><td> 560631</td><td>⋯</td><td> 102411</td><td> 25960</td><td> 499182</td><td> 133197.0</td><td>110236</td><td> 323899</td><td> 87622.0</td><td>405913</td><td>  42991.0</td><td>  82390.0</td></tr>\n",
              "\t<tr><th scope=row>6</th><td>PLCG2     </td><td> 61125.5</td><td> 71365.7</td><td> 73383.5</td><td>  93062.4</td><td>  52323.5</td><td>  34503.2</td><td>  7073.39</td><td> 126700</td><td> 225245</td><td>⋯</td><td> 115325</td><td>239707</td><td> 917641</td><td>  89763.5</td><td>111230</td><td> 139194</td><td> 62708.4</td><td>345165</td><td>  94303.7</td><td>  94080.8</td></tr>\n",
              "</tbody>\n",
              "</table>\n"
            ]
          },
          "metadata": {}
        }
      ]
    },
    {
      "cell_type": "code",
      "source": [
        "#agrregate=aggregate(. ~ id, data = input, mean) \n",
        "## id is header name of row which have duplicates, please change according to your file column name. here \"gene\"\n",
        "\n",
        "agrregate=aggregate(. ~ gene, data = input, mean) \n",
        "\n",
        "#convert into a data frame\n",
        "agrregate<-data.frame(agrregate)\n"
      ],
      "metadata": {
        "id": "oJ_HGLgeD1Ew"
      },
      "execution_count": null,
      "outputs": []
    },
    {
      "cell_type": "code",
      "source": [
        "head(agrregate)"
      ],
      "metadata": {
        "id": "6fx0Gk1GE2Ri",
        "colab": {
          "base_uri": "https://localhost:8080/",
          "height": 306
        },
        "outputId": "73de0250-631f-411b-baf5-d0bdb2df8fbd"
      },
      "execution_count": null,
      "outputs": [
        {
          "output_type": "display_data",
          "data": {
            "text/plain": [
              "  gene    L_136_05  L_173_00   L_112_05   L_282_00  L_133_00  L_150_00 \n",
              "1 A1BG    48.190000  67.147200  60.425120 36.557020  55.23118  51.47126\n",
              "2 A1CF     4.418025   5.041700   7.416575  3.544200   3.76895   4.53530\n",
              "3 A2M     70.250913 178.432592 147.930626 78.076309 108.69165 217.29577\n",
              "4 A2ML1    8.019005   8.232613   9.788901  5.859114  11.42191  11.27735\n",
              "5 A2MP1   32.249992  98.999962  75.500068 36.499977  60.50004 121.75003\n",
              "6 A3GALT2  1.000000   0.000000   4.000000  5.000000   1.00000   0.00000\n",
              "  L_210_00  L_200_00  L_329_00  ⋯ L_215_05   L_138_05  L_327_00  L_006_00 \n",
              "1 5.3296400 33.031860 14.160684 ⋯  55.914760 43.015040 19.025384 26.515500\n",
              "2 0.5029529  3.400800  1.260885 ⋯   3.650300  4.013301  2.058282  2.780300\n",
              "3 4.5384600 59.499458 21.805698 ⋯ 202.426185 52.529418 84.176595 20.139735\n",
              "4 0.3762962  8.733236  3.507344 ⋯   5.887839  7.272098  3.732381  6.948733\n",
              "5 2.5000000 28.500008  6.249998 ⋯ 100.249900 38.499900 46.250108  7.000005\n",
              "6 1.0000000  7.000000  0.000000 ⋯   6.000000  4.000000  2.000000  1.000000\n",
              "  L_303_00   L_228_00 L_127_05 L_270_00   L_012_05  L_170_00  \n",
              "1  35.594680 56.22052 66.05200  47.022000 49.202800  51.505480\n",
              "2   3.770475  6.65425  4.14415   4.410975  5.168000   4.524801\n",
              "3 125.352274 60.13796 59.31767 205.144478 49.491946 115.535673\n",
              "4   8.336410 11.74466 14.79050   7.522965  5.972265   7.544260\n",
              "5  58.250107 25.99999 35.50002 104.000023 25.000007  48.000080\n",
              "6   2.000000  1.00000  7.00000   0.000000  8.000000   2.000000"
            ],
            "text/latex": "A data.frame: 6 × 181\n\\begin{tabular}{r|lllllllllllllllllllll}\n  & gene & L\\_136\\_05 & L\\_173\\_00 & L\\_112\\_05 & L\\_282\\_00 & L\\_133\\_00 & L\\_150\\_00 & L\\_210\\_00 & L\\_200\\_00 & L\\_329\\_00 & ⋯ & L\\_215\\_05 & L\\_138\\_05 & L\\_327\\_00 & L\\_006\\_00 & L\\_303\\_00 & L\\_228\\_00 & L\\_127\\_05 & L\\_270\\_00 & L\\_012\\_05 & L\\_170\\_00\\\\\n  & <chr> & <dbl> & <dbl> & <dbl> & <dbl> & <dbl> & <dbl> & <dbl> & <dbl> & <dbl> & ⋯ & <dbl> & <dbl> & <dbl> & <dbl> & <dbl> & <dbl> & <dbl> & <dbl> & <dbl> & <dbl>\\\\\n\\hline\n\t1 & A1BG    & 48.190000 &  67.147200 &  60.425120 & 36.557020 &  55.23118 &  51.47126 & 5.3296400 & 33.031860 & 14.160684 & ⋯ &  55.914760 & 43.015040 & 19.025384 & 26.515500 &  35.594680 & 56.22052 & 66.05200 &  47.022000 & 49.202800 &  51.505480\\\\\n\t2 & A1CF    &  4.418025 &   5.041700 &   7.416575 &  3.544200 &   3.76895 &   4.53530 & 0.5029529 &  3.400800 &  1.260885 & ⋯ &   3.650300 &  4.013301 &  2.058282 &  2.780300 &   3.770475 &  6.65425 &  4.14415 &   4.410975 &  5.168000 &   4.524801\\\\\n\t3 & A2M     & 70.250913 & 178.432592 & 147.930626 & 78.076309 & 108.69165 & 217.29577 & 4.5384600 & 59.499458 & 21.805698 & ⋯ & 202.426185 & 52.529418 & 84.176595 & 20.139735 & 125.352274 & 60.13796 & 59.31767 & 205.144478 & 49.491946 & 115.535673\\\\\n\t4 & A2ML1   &  8.019005 &   8.232613 &   9.788901 &  5.859114 &  11.42191 &  11.27735 & 0.3762962 &  8.733236 &  3.507344 & ⋯ &   5.887839 &  7.272098 &  3.732381 &  6.948733 &   8.336410 & 11.74466 & 14.79050 &   7.522965 &  5.972265 &   7.544260\\\\\n\t5 & A2MP1   & 32.249992 &  98.999962 &  75.500068 & 36.499977 &  60.50004 & 121.75003 & 2.5000000 & 28.500008 &  6.249998 & ⋯ & 100.249900 & 38.499900 & 46.250108 &  7.000005 &  58.250107 & 25.99999 & 35.50002 & 104.000023 & 25.000007 &  48.000080\\\\\n\t6 & A3GALT2 &  1.000000 &   0.000000 &   4.000000 &  5.000000 &   1.00000 &   0.00000 & 1.0000000 &  7.000000 &  0.000000 & ⋯ &   6.000000 &  4.000000 &  2.000000 &  1.000000 &   2.000000 &  1.00000 &  7.00000 &   0.000000 &  8.000000 &   2.000000\\\\\n\\end{tabular}\n",
            "text/markdown": "\nA data.frame: 6 × 181\n\n| <!--/--> | gene &lt;chr&gt; | L_136_05 &lt;dbl&gt; | L_173_00 &lt;dbl&gt; | L_112_05 &lt;dbl&gt; | L_282_00 &lt;dbl&gt; | L_133_00 &lt;dbl&gt; | L_150_00 &lt;dbl&gt; | L_210_00 &lt;dbl&gt; | L_200_00 &lt;dbl&gt; | L_329_00 &lt;dbl&gt; | ⋯ ⋯ | L_215_05 &lt;dbl&gt; | L_138_05 &lt;dbl&gt; | L_327_00 &lt;dbl&gt; | L_006_00 &lt;dbl&gt; | L_303_00 &lt;dbl&gt; | L_228_00 &lt;dbl&gt; | L_127_05 &lt;dbl&gt; | L_270_00 &lt;dbl&gt; | L_012_05 &lt;dbl&gt; | L_170_00 &lt;dbl&gt; |\n|---|---|---|---|---|---|---|---|---|---|---|---|---|---|---|---|---|---|---|---|---|---|\n| 1 | A1BG    | 48.190000 |  67.147200 |  60.425120 | 36.557020 |  55.23118 |  51.47126 | 5.3296400 | 33.031860 | 14.160684 | ⋯ |  55.914760 | 43.015040 | 19.025384 | 26.515500 |  35.594680 | 56.22052 | 66.05200 |  47.022000 | 49.202800 |  51.505480 |\n| 2 | A1CF    |  4.418025 |   5.041700 |   7.416575 |  3.544200 |   3.76895 |   4.53530 | 0.5029529 |  3.400800 |  1.260885 | ⋯ |   3.650300 |  4.013301 |  2.058282 |  2.780300 |   3.770475 |  6.65425 |  4.14415 |   4.410975 |  5.168000 |   4.524801 |\n| 3 | A2M     | 70.250913 | 178.432592 | 147.930626 | 78.076309 | 108.69165 | 217.29577 | 4.5384600 | 59.499458 | 21.805698 | ⋯ | 202.426185 | 52.529418 | 84.176595 | 20.139735 | 125.352274 | 60.13796 | 59.31767 | 205.144478 | 49.491946 | 115.535673 |\n| 4 | A2ML1   |  8.019005 |   8.232613 |   9.788901 |  5.859114 |  11.42191 |  11.27735 | 0.3762962 |  8.733236 |  3.507344 | ⋯ |   5.887839 |  7.272098 |  3.732381 |  6.948733 |   8.336410 | 11.74466 | 14.79050 |   7.522965 |  5.972265 |   7.544260 |\n| 5 | A2MP1   | 32.249992 |  98.999962 |  75.500068 | 36.499977 |  60.50004 | 121.75003 | 2.5000000 | 28.500008 |  6.249998 | ⋯ | 100.249900 | 38.499900 | 46.250108 |  7.000005 |  58.250107 | 25.99999 | 35.50002 | 104.000023 | 25.000007 |  48.000080 |\n| 6 | A3GALT2 |  1.000000 |   0.000000 |   4.000000 |  5.000000 |   1.00000 |   0.00000 | 1.0000000 |  7.000000 |  0.000000 | ⋯ |   6.000000 |  4.000000 |  2.000000 |  1.000000 |   2.000000 |  1.00000 |  7.00000 |   0.000000 |  8.000000 |   2.000000 |\n\n",
            "text/html": [
              "<table class=\"dataframe\">\n",
              "<caption>A data.frame: 6 × 181</caption>\n",
              "<thead>\n",
              "\t<tr><th></th><th scope=col>gene</th><th scope=col>L_136_05</th><th scope=col>L_173_00</th><th scope=col>L_112_05</th><th scope=col>L_282_00</th><th scope=col>L_133_00</th><th scope=col>L_150_00</th><th scope=col>L_210_00</th><th scope=col>L_200_00</th><th scope=col>L_329_00</th><th scope=col>⋯</th><th scope=col>L_215_05</th><th scope=col>L_138_05</th><th scope=col>L_327_00</th><th scope=col>L_006_00</th><th scope=col>L_303_00</th><th scope=col>L_228_00</th><th scope=col>L_127_05</th><th scope=col>L_270_00</th><th scope=col>L_012_05</th><th scope=col>L_170_00</th></tr>\n",
              "\t<tr><th></th><th scope=col>&lt;chr&gt;</th><th scope=col>&lt;dbl&gt;</th><th scope=col>&lt;dbl&gt;</th><th scope=col>&lt;dbl&gt;</th><th scope=col>&lt;dbl&gt;</th><th scope=col>&lt;dbl&gt;</th><th scope=col>&lt;dbl&gt;</th><th scope=col>&lt;dbl&gt;</th><th scope=col>&lt;dbl&gt;</th><th scope=col>&lt;dbl&gt;</th><th scope=col>⋯</th><th scope=col>&lt;dbl&gt;</th><th scope=col>&lt;dbl&gt;</th><th scope=col>&lt;dbl&gt;</th><th scope=col>&lt;dbl&gt;</th><th scope=col>&lt;dbl&gt;</th><th scope=col>&lt;dbl&gt;</th><th scope=col>&lt;dbl&gt;</th><th scope=col>&lt;dbl&gt;</th><th scope=col>&lt;dbl&gt;</th><th scope=col>&lt;dbl&gt;</th></tr>\n",
              "</thead>\n",
              "<tbody>\n",
              "\t<tr><th scope=row>1</th><td>A1BG   </td><td>48.190000</td><td> 67.147200</td><td> 60.425120</td><td>36.557020</td><td> 55.23118</td><td> 51.47126</td><td>5.3296400</td><td>33.031860</td><td>14.160684</td><td>⋯</td><td> 55.914760</td><td>43.015040</td><td>19.025384</td><td>26.515500</td><td> 35.594680</td><td>56.22052</td><td>66.05200</td><td> 47.022000</td><td>49.202800</td><td> 51.505480</td></tr>\n",
              "\t<tr><th scope=row>2</th><td>A1CF   </td><td> 4.418025</td><td>  5.041700</td><td>  7.416575</td><td> 3.544200</td><td>  3.76895</td><td>  4.53530</td><td>0.5029529</td><td> 3.400800</td><td> 1.260885</td><td>⋯</td><td>  3.650300</td><td> 4.013301</td><td> 2.058282</td><td> 2.780300</td><td>  3.770475</td><td> 6.65425</td><td> 4.14415</td><td>  4.410975</td><td> 5.168000</td><td>  4.524801</td></tr>\n",
              "\t<tr><th scope=row>3</th><td>A2M    </td><td>70.250913</td><td>178.432592</td><td>147.930626</td><td>78.076309</td><td>108.69165</td><td>217.29577</td><td>4.5384600</td><td>59.499458</td><td>21.805698</td><td>⋯</td><td>202.426185</td><td>52.529418</td><td>84.176595</td><td>20.139735</td><td>125.352274</td><td>60.13796</td><td>59.31767</td><td>205.144478</td><td>49.491946</td><td>115.535673</td></tr>\n",
              "\t<tr><th scope=row>4</th><td>A2ML1  </td><td> 8.019005</td><td>  8.232613</td><td>  9.788901</td><td> 5.859114</td><td> 11.42191</td><td> 11.27735</td><td>0.3762962</td><td> 8.733236</td><td> 3.507344</td><td>⋯</td><td>  5.887839</td><td> 7.272098</td><td> 3.732381</td><td> 6.948733</td><td>  8.336410</td><td>11.74466</td><td>14.79050</td><td>  7.522965</td><td> 5.972265</td><td>  7.544260</td></tr>\n",
              "\t<tr><th scope=row>5</th><td>A2MP1  </td><td>32.249992</td><td> 98.999962</td><td> 75.500068</td><td>36.499977</td><td> 60.50004</td><td>121.75003</td><td>2.5000000</td><td>28.500008</td><td> 6.249998</td><td>⋯</td><td>100.249900</td><td>38.499900</td><td>46.250108</td><td> 7.000005</td><td> 58.250107</td><td>25.99999</td><td>35.50002</td><td>104.000023</td><td>25.000007</td><td> 48.000080</td></tr>\n",
              "\t<tr><th scope=row>6</th><td>A3GALT2</td><td> 1.000000</td><td>  0.000000</td><td>  4.000000</td><td> 5.000000</td><td>  1.00000</td><td>  0.00000</td><td>1.0000000</td><td> 7.000000</td><td> 0.000000</td><td>⋯</td><td>  6.000000</td><td> 4.000000</td><td> 2.000000</td><td> 1.000000</td><td>  2.000000</td><td> 1.00000</td><td> 7.00000</td><td>  0.000000</td><td> 8.000000</td><td>  2.000000</td></tr>\n",
              "</tbody>\n",
              "</table>\n"
            ]
          },
          "metadata": {}
        }
      ]
    },
    {
      "cell_type": "code",
      "source": [
        "dim(agrregate)"
      ],
      "metadata": {
        "colab": {
          "base_uri": "https://localhost:8080/",
          "height": 34
        },
        "id": "diz3dLlvc0YE",
        "outputId": "3bd2f2bd-c2f8-4f9b-e03d-bf4d5886c4d2"
      },
      "execution_count": null,
      "outputs": [
        {
          "output_type": "display_data",
          "data": {
            "text/plain": [
              "[1] 34560   181"
            ],
            "text/latex": "\\begin{enumerate*}\n\\item 34560\n\\item 181\n\\end{enumerate*}\n",
            "text/markdown": "1. 34560\n2. 181\n\n\n",
            "text/html": [
              "<style>\n",
              ".list-inline {list-style: none; margin:0; padding: 0}\n",
              ".list-inline>li {display: inline-block}\n",
              ".list-inline>li:not(:last-child)::after {content: \"\\00b7\"; padding: 0 .5ex}\n",
              "</style>\n",
              "<ol class=list-inline><li>34560</li><li>181</li></ol>\n"
            ]
          },
          "metadata": {}
        }
      ]
    },
    {
      "cell_type": "code",
      "source": [
        "write.table(data.frame('ID'=rownames(agrregate), agrregate),file=\"Aggregate_data.txt\",sep='\\t',quote = F,row.names = FALSE)\n"
      ],
      "metadata": {
        "id": "NKI5vnv9D24H"
      },
      "execution_count": null,
      "outputs": []
    },
    {
      "cell_type": "markdown",
      "source": [
        "the Aggregate_data.txt is used as input file for PCA and DESEQ2 preprocessing. but before that NA rows need to removed but the output file of aggregate function didnt had NA rows. \n",
        "possible reason: Aggregate function might have removed NA automatically or there might be error. so to confirm this, we rerun the code block with the input file in which all NA entries in 1st column (gene) were replaced with NA1. the new input file is: "
      ],
      "metadata": {
        "id": "2CilaGXQg-1m"
      }
    },
    {
      "cell_type": "code",
      "source": [
        "## input object created for the file GSE178967_ZR_NA_col1gene1_NA_1.TXT with samples in column and genes are in rows\n",
        "input <- read.table(\"/content/GSE178967_ZR_NA_col1gene1_NA_1.txt\",header=T,sep=\"\\t\")"
      ],
      "metadata": {
        "id": "WR-yZ7gGqrGw"
      },
      "execution_count": null,
      "outputs": []
    },
    {
      "cell_type": "code",
      "source": [
        "dim(input)"
      ],
      "metadata": {
        "colab": {
          "base_uri": "https://localhost:8080/",
          "height": 34
        },
        "id": "x4mBZpoDqwMp",
        "outputId": "47b60154-b7e0-4071-9357-bac4488c77d5"
      },
      "execution_count": null,
      "outputs": [
        {
          "output_type": "display_data",
          "data": {
            "text/plain": [
              "[1] 174596    181"
            ],
            "text/latex": "\\begin{enumerate*}\n\\item 174596\n\\item 181\n\\end{enumerate*}\n",
            "text/markdown": "1. 174596\n2. 181\n\n\n",
            "text/html": [
              "<style>\n",
              ".list-inline {list-style: none; margin:0; padding: 0}\n",
              ".list-inline>li {display: inline-block}\n",
              ".list-inline>li:not(:last-child)::after {content: \"\\00b7\"; padding: 0 .5ex}\n",
              "</style>\n",
              "<ol class=list-inline><li>174596</li><li>181</li></ol>\n"
            ]
          },
          "metadata": {}
        }
      ]
    },
    {
      "cell_type": "code",
      "source": [
        "head(input)"
      ],
      "metadata": {
        "colab": {
          "base_uri": "https://localhost:8080/",
          "height": 306
        },
        "id": "t0JqmspTq1qC",
        "outputId": "2e043842-276b-4f11-99aa-670445465cc0"
      },
      "execution_count": null,
      "outputs": [
        {
          "output_type": "display_data",
          "data": {
            "text/plain": [
              "  gene       L_136_05 L_173_00 L_112_05 L_282_00  L_133_00  L_150_00  L_210_00 \n",
              "1 HBB        641550.0 327053.0 934848.0 1495980.0 2305850.0 1338130.0 269498.00\n",
              "2 MTRNR2L12  234656.0 356521.0 486621.0  334832.0  331533.0  119703.0  20948.80\n",
              "3 HBA2       207222.0 152607.0 116654.0  344538.0  372509.0  174057.0  41817.30\n",
              "4 HBA1       118331.0  78276.8 138456.0  222374.0  207864.0  119428.0  32616.60\n",
              "5 AC010970.1  59824.0 171416.0  52742.0  110868.0   29916.0   19169.0   8053.00\n",
              "6 PLCG2       61125.5  71365.7  73383.5   93062.4   52323.5   34503.2   7073.39\n",
              "  L_200_00 L_329_00 ⋯ L_215_05 L_138_05 L_327_00 L_006_00  L_303_00 L_228_00\n",
              "1 1949460  6077620  ⋯ 1731570  507926   1906840  1274710.0 682778   1452360 \n",
              "2  360097   712039  ⋯  291622  683470    765457   405682.0 246088    447305 \n",
              "3  590778  1102000  ⋯  329535  354149   1261350   327047.0 181882    517892 \n",
              "4  302592   821682  ⋯  251084  571927   1000010   231825.0 131256    292425 \n",
              "5  205837   560631  ⋯  102411   25960    499182   133197.0 110236    323899 \n",
              "6  126700   225245  ⋯  115325  239707    917641    89763.5 111230    139194 \n",
              "  L_127_05 L_270_00 L_012_05  L_170_00 \n",
              "1 610460.0 622706   1217190.0 1293060.0\n",
              "2 122628.0 778604    210696.0  199614.0\n",
              "3 174779.0 162419    140406.0  230477.0\n",
              "4 110044.0 112814    187562.0  211127.0\n",
              "5  87622.0 405913     42991.0   82390.0\n",
              "6  62708.4 345165     94303.7   94080.8"
            ],
            "text/latex": "A data.frame: 6 × 181\n\\begin{tabular}{r|lllllllllllllllllllll}\n  & gene & L\\_136\\_05 & L\\_173\\_00 & L\\_112\\_05 & L\\_282\\_00 & L\\_133\\_00 & L\\_150\\_00 & L\\_210\\_00 & L\\_200\\_00 & L\\_329\\_00 & ⋯ & L\\_215\\_05 & L\\_138\\_05 & L\\_327\\_00 & L\\_006\\_00 & L\\_303\\_00 & L\\_228\\_00 & L\\_127\\_05 & L\\_270\\_00 & L\\_012\\_05 & L\\_170\\_00\\\\\n  & <chr> & <dbl> & <dbl> & <dbl> & <dbl> & <dbl> & <dbl> & <dbl> & <dbl> & <dbl> & ⋯ & <dbl> & <dbl> & <dbl> & <dbl> & <dbl> & <dbl> & <dbl> & <dbl> & <dbl> & <dbl>\\\\\n\\hline\n\t1 & HBB        & 641550.0 & 327053.0 & 934848.0 & 1495980.0 & 2305850.0 & 1338130.0 & 269498.00 & 1949460 & 6077620 & ⋯ & 1731570 & 507926 & 1906840 & 1274710.0 & 682778 & 1452360 & 610460.0 & 622706 & 1217190.0 & 1293060.0\\\\\n\t2 & MTRNR2L12  & 234656.0 & 356521.0 & 486621.0 &  334832.0 &  331533.0 &  119703.0 &  20948.80 &  360097 &  712039 & ⋯ &  291622 & 683470 &  765457 &  405682.0 & 246088 &  447305 & 122628.0 & 778604 &  210696.0 &  199614.0\\\\\n\t3 & HBA2       & 207222.0 & 152607.0 & 116654.0 &  344538.0 &  372509.0 &  174057.0 &  41817.30 &  590778 & 1102000 & ⋯ &  329535 & 354149 & 1261350 &  327047.0 & 181882 &  517892 & 174779.0 & 162419 &  140406.0 &  230477.0\\\\\n\t4 & HBA1       & 118331.0 &  78276.8 & 138456.0 &  222374.0 &  207864.0 &  119428.0 &  32616.60 &  302592 &  821682 & ⋯ &  251084 & 571927 & 1000010 &  231825.0 & 131256 &  292425 & 110044.0 & 112814 &  187562.0 &  211127.0\\\\\n\t5 & AC010970.1 &  59824.0 & 171416.0 &  52742.0 &  110868.0 &   29916.0 &   19169.0 &   8053.00 &  205837 &  560631 & ⋯ &  102411 &  25960 &  499182 &  133197.0 & 110236 &  323899 &  87622.0 & 405913 &   42991.0 &   82390.0\\\\\n\t6 & PLCG2      &  61125.5 &  71365.7 &  73383.5 &   93062.4 &   52323.5 &   34503.2 &   7073.39 &  126700 &  225245 & ⋯ &  115325 & 239707 &  917641 &   89763.5 & 111230 &  139194 &  62708.4 & 345165 &   94303.7 &   94080.8\\\\\n\\end{tabular}\n",
            "text/markdown": "\nA data.frame: 6 × 181\n\n| <!--/--> | gene &lt;chr&gt; | L_136_05 &lt;dbl&gt; | L_173_00 &lt;dbl&gt; | L_112_05 &lt;dbl&gt; | L_282_00 &lt;dbl&gt; | L_133_00 &lt;dbl&gt; | L_150_00 &lt;dbl&gt; | L_210_00 &lt;dbl&gt; | L_200_00 &lt;dbl&gt; | L_329_00 &lt;dbl&gt; | ⋯ ⋯ | L_215_05 &lt;dbl&gt; | L_138_05 &lt;dbl&gt; | L_327_00 &lt;dbl&gt; | L_006_00 &lt;dbl&gt; | L_303_00 &lt;dbl&gt; | L_228_00 &lt;dbl&gt; | L_127_05 &lt;dbl&gt; | L_270_00 &lt;dbl&gt; | L_012_05 &lt;dbl&gt; | L_170_00 &lt;dbl&gt; |\n|---|---|---|---|---|---|---|---|---|---|---|---|---|---|---|---|---|---|---|---|---|---|\n| 1 | HBB        | 641550.0 | 327053.0 | 934848.0 | 1495980.0 | 2305850.0 | 1338130.0 | 269498.00 | 1949460 | 6077620 | ⋯ | 1731570 | 507926 | 1906840 | 1274710.0 | 682778 | 1452360 | 610460.0 | 622706 | 1217190.0 | 1293060.0 |\n| 2 | MTRNR2L12  | 234656.0 | 356521.0 | 486621.0 |  334832.0 |  331533.0 |  119703.0 |  20948.80 |  360097 |  712039 | ⋯ |  291622 | 683470 |  765457 |  405682.0 | 246088 |  447305 | 122628.0 | 778604 |  210696.0 |  199614.0 |\n| 3 | HBA2       | 207222.0 | 152607.0 | 116654.0 |  344538.0 |  372509.0 |  174057.0 |  41817.30 |  590778 | 1102000 | ⋯ |  329535 | 354149 | 1261350 |  327047.0 | 181882 |  517892 | 174779.0 | 162419 |  140406.0 |  230477.0 |\n| 4 | HBA1       | 118331.0 |  78276.8 | 138456.0 |  222374.0 |  207864.0 |  119428.0 |  32616.60 |  302592 |  821682 | ⋯ |  251084 | 571927 | 1000010 |  231825.0 | 131256 |  292425 | 110044.0 | 112814 |  187562.0 |  211127.0 |\n| 5 | AC010970.1 |  59824.0 | 171416.0 |  52742.0 |  110868.0 |   29916.0 |   19169.0 |   8053.00 |  205837 |  560631 | ⋯ |  102411 |  25960 |  499182 |  133197.0 | 110236 |  323899 |  87622.0 | 405913 |   42991.0 |   82390.0 |\n| 6 | PLCG2      |  61125.5 |  71365.7 |  73383.5 |   93062.4 |   52323.5 |   34503.2 |   7073.39 |  126700 |  225245 | ⋯ |  115325 | 239707 |  917641 |   89763.5 | 111230 |  139194 |  62708.4 | 345165 |   94303.7 |   94080.8 |\n\n",
            "text/html": [
              "<table class=\"dataframe\">\n",
              "<caption>A data.frame: 6 × 181</caption>\n",
              "<thead>\n",
              "\t<tr><th></th><th scope=col>gene</th><th scope=col>L_136_05</th><th scope=col>L_173_00</th><th scope=col>L_112_05</th><th scope=col>L_282_00</th><th scope=col>L_133_00</th><th scope=col>L_150_00</th><th scope=col>L_210_00</th><th scope=col>L_200_00</th><th scope=col>L_329_00</th><th scope=col>⋯</th><th scope=col>L_215_05</th><th scope=col>L_138_05</th><th scope=col>L_327_00</th><th scope=col>L_006_00</th><th scope=col>L_303_00</th><th scope=col>L_228_00</th><th scope=col>L_127_05</th><th scope=col>L_270_00</th><th scope=col>L_012_05</th><th scope=col>L_170_00</th></tr>\n",
              "\t<tr><th></th><th scope=col>&lt;chr&gt;</th><th scope=col>&lt;dbl&gt;</th><th scope=col>&lt;dbl&gt;</th><th scope=col>&lt;dbl&gt;</th><th scope=col>&lt;dbl&gt;</th><th scope=col>&lt;dbl&gt;</th><th scope=col>&lt;dbl&gt;</th><th scope=col>&lt;dbl&gt;</th><th scope=col>&lt;dbl&gt;</th><th scope=col>&lt;dbl&gt;</th><th scope=col>⋯</th><th scope=col>&lt;dbl&gt;</th><th scope=col>&lt;dbl&gt;</th><th scope=col>&lt;dbl&gt;</th><th scope=col>&lt;dbl&gt;</th><th scope=col>&lt;dbl&gt;</th><th scope=col>&lt;dbl&gt;</th><th scope=col>&lt;dbl&gt;</th><th scope=col>&lt;dbl&gt;</th><th scope=col>&lt;dbl&gt;</th><th scope=col>&lt;dbl&gt;</th></tr>\n",
              "</thead>\n",
              "<tbody>\n",
              "\t<tr><th scope=row>1</th><td>HBB       </td><td>641550.0</td><td>327053.0</td><td>934848.0</td><td>1495980.0</td><td>2305850.0</td><td>1338130.0</td><td>269498.00</td><td>1949460</td><td>6077620</td><td>⋯</td><td>1731570</td><td>507926</td><td>1906840</td><td>1274710.0</td><td>682778</td><td>1452360</td><td>610460.0</td><td>622706</td><td>1217190.0</td><td>1293060.0</td></tr>\n",
              "\t<tr><th scope=row>2</th><td>MTRNR2L12 </td><td>234656.0</td><td>356521.0</td><td>486621.0</td><td> 334832.0</td><td> 331533.0</td><td> 119703.0</td><td> 20948.80</td><td> 360097</td><td> 712039</td><td>⋯</td><td> 291622</td><td>683470</td><td> 765457</td><td> 405682.0</td><td>246088</td><td> 447305</td><td>122628.0</td><td>778604</td><td> 210696.0</td><td> 199614.0</td></tr>\n",
              "\t<tr><th scope=row>3</th><td>HBA2      </td><td>207222.0</td><td>152607.0</td><td>116654.0</td><td> 344538.0</td><td> 372509.0</td><td> 174057.0</td><td> 41817.30</td><td> 590778</td><td>1102000</td><td>⋯</td><td> 329535</td><td>354149</td><td>1261350</td><td> 327047.0</td><td>181882</td><td> 517892</td><td>174779.0</td><td>162419</td><td> 140406.0</td><td> 230477.0</td></tr>\n",
              "\t<tr><th scope=row>4</th><td>HBA1      </td><td>118331.0</td><td> 78276.8</td><td>138456.0</td><td> 222374.0</td><td> 207864.0</td><td> 119428.0</td><td> 32616.60</td><td> 302592</td><td> 821682</td><td>⋯</td><td> 251084</td><td>571927</td><td>1000010</td><td> 231825.0</td><td>131256</td><td> 292425</td><td>110044.0</td><td>112814</td><td> 187562.0</td><td> 211127.0</td></tr>\n",
              "\t<tr><th scope=row>5</th><td>AC010970.1</td><td> 59824.0</td><td>171416.0</td><td> 52742.0</td><td> 110868.0</td><td>  29916.0</td><td>  19169.0</td><td>  8053.00</td><td> 205837</td><td> 560631</td><td>⋯</td><td> 102411</td><td> 25960</td><td> 499182</td><td> 133197.0</td><td>110236</td><td> 323899</td><td> 87622.0</td><td>405913</td><td>  42991.0</td><td>  82390.0</td></tr>\n",
              "\t<tr><th scope=row>6</th><td>PLCG2     </td><td> 61125.5</td><td> 71365.7</td><td> 73383.5</td><td>  93062.4</td><td>  52323.5</td><td>  34503.2</td><td>  7073.39</td><td> 126700</td><td> 225245</td><td>⋯</td><td> 115325</td><td>239707</td><td> 917641</td><td>  89763.5</td><td>111230</td><td> 139194</td><td> 62708.4</td><td>345165</td><td>  94303.7</td><td>  94080.8</td></tr>\n",
              "</tbody>\n",
              "</table>\n"
            ]
          },
          "metadata": {}
        }
      ]
    },
    {
      "cell_type": "code",
      "source": [
        "#agrregate=aggregate(. ~ id, data = input, mean) \n",
        "## id is header name of row which have duplicates, please change according to your file column name. here \"gene\"\n",
        "\n",
        "aggregate=aggregate(. ~ gene, data = input, mean) \n",
        "\n",
        "#convert into a data frame\n",
        "aggregate<-data.frame(aggregate)"
      ],
      "metadata": {
        "id": "pheYoCdmq5nr"
      },
      "execution_count": null,
      "outputs": []
    },
    {
      "cell_type": "code",
      "source": [
        "head(aggregate)"
      ],
      "metadata": {
        "colab": {
          "base_uri": "https://localhost:8080/",
          "height": 306
        },
        "id": "JdgWSLKdq8Q5",
        "outputId": "28c723e9-e29d-42af-94f0-97a725886abb"
      },
      "execution_count": null,
      "outputs": [
        {
          "output_type": "display_data",
          "data": {
            "text/plain": [
              "  gene    L_136_05  L_173_00   L_112_05   L_282_00  L_133_00  L_150_00 \n",
              "1 A1BG    48.190000  67.147200  60.425120 36.557020  55.23118  51.47126\n",
              "2 A1CF     4.418025   5.041700   7.416575  3.544200   3.76895   4.53530\n",
              "3 A2M     70.250913 178.432592 147.930626 78.076309 108.69165 217.29577\n",
              "4 A2ML1    8.019005   8.232613   9.788901  5.859114  11.42191  11.27735\n",
              "5 A2MP1   32.249992  98.999962  75.500068 36.499977  60.50004 121.75003\n",
              "6 A3GALT2  1.000000   0.000000   4.000000  5.000000   1.00000   0.00000\n",
              "  L_210_00  L_200_00  L_329_00  ⋯ L_215_05   L_138_05  L_327_00  L_006_00 \n",
              "1 5.3296400 33.031860 14.160684 ⋯  55.914760 43.015040 19.025384 26.515500\n",
              "2 0.5029529  3.400800  1.260885 ⋯   3.650300  4.013301  2.058282  2.780300\n",
              "3 4.5384600 59.499458 21.805698 ⋯ 202.426185 52.529418 84.176595 20.139735\n",
              "4 0.3762962  8.733236  3.507344 ⋯   5.887839  7.272098  3.732381  6.948733\n",
              "5 2.5000000 28.500008  6.249998 ⋯ 100.249900 38.499900 46.250108  7.000005\n",
              "6 1.0000000  7.000000  0.000000 ⋯   6.000000  4.000000  2.000000  1.000000\n",
              "  L_303_00   L_228_00 L_127_05 L_270_00   L_012_05  L_170_00  \n",
              "1  35.594680 56.22052 66.05200  47.022000 49.202800  51.505480\n",
              "2   3.770475  6.65425  4.14415   4.410975  5.168000   4.524801\n",
              "3 125.352274 60.13796 59.31767 205.144478 49.491946 115.535673\n",
              "4   8.336410 11.74466 14.79050   7.522965  5.972265   7.544260\n",
              "5  58.250107 25.99999 35.50002 104.000023 25.000007  48.000080\n",
              "6   2.000000  1.00000  7.00000   0.000000  8.000000   2.000000"
            ],
            "text/latex": "A data.frame: 6 × 181\n\\begin{tabular}{r|lllllllllllllllllllll}\n  & gene & L\\_136\\_05 & L\\_173\\_00 & L\\_112\\_05 & L\\_282\\_00 & L\\_133\\_00 & L\\_150\\_00 & L\\_210\\_00 & L\\_200\\_00 & L\\_329\\_00 & ⋯ & L\\_215\\_05 & L\\_138\\_05 & L\\_327\\_00 & L\\_006\\_00 & L\\_303\\_00 & L\\_228\\_00 & L\\_127\\_05 & L\\_270\\_00 & L\\_012\\_05 & L\\_170\\_00\\\\\n  & <chr> & <dbl> & <dbl> & <dbl> & <dbl> & <dbl> & <dbl> & <dbl> & <dbl> & <dbl> & ⋯ & <dbl> & <dbl> & <dbl> & <dbl> & <dbl> & <dbl> & <dbl> & <dbl> & <dbl> & <dbl>\\\\\n\\hline\n\t1 & A1BG    & 48.190000 &  67.147200 &  60.425120 & 36.557020 &  55.23118 &  51.47126 & 5.3296400 & 33.031860 & 14.160684 & ⋯ &  55.914760 & 43.015040 & 19.025384 & 26.515500 &  35.594680 & 56.22052 & 66.05200 &  47.022000 & 49.202800 &  51.505480\\\\\n\t2 & A1CF    &  4.418025 &   5.041700 &   7.416575 &  3.544200 &   3.76895 &   4.53530 & 0.5029529 &  3.400800 &  1.260885 & ⋯ &   3.650300 &  4.013301 &  2.058282 &  2.780300 &   3.770475 &  6.65425 &  4.14415 &   4.410975 &  5.168000 &   4.524801\\\\\n\t3 & A2M     & 70.250913 & 178.432592 & 147.930626 & 78.076309 & 108.69165 & 217.29577 & 4.5384600 & 59.499458 & 21.805698 & ⋯ & 202.426185 & 52.529418 & 84.176595 & 20.139735 & 125.352274 & 60.13796 & 59.31767 & 205.144478 & 49.491946 & 115.535673\\\\\n\t4 & A2ML1   &  8.019005 &   8.232613 &   9.788901 &  5.859114 &  11.42191 &  11.27735 & 0.3762962 &  8.733236 &  3.507344 & ⋯ &   5.887839 &  7.272098 &  3.732381 &  6.948733 &   8.336410 & 11.74466 & 14.79050 &   7.522965 &  5.972265 &   7.544260\\\\\n\t5 & A2MP1   & 32.249992 &  98.999962 &  75.500068 & 36.499977 &  60.50004 & 121.75003 & 2.5000000 & 28.500008 &  6.249998 & ⋯ & 100.249900 & 38.499900 & 46.250108 &  7.000005 &  58.250107 & 25.99999 & 35.50002 & 104.000023 & 25.000007 &  48.000080\\\\\n\t6 & A3GALT2 &  1.000000 &   0.000000 &   4.000000 &  5.000000 &   1.00000 &   0.00000 & 1.0000000 &  7.000000 &  0.000000 & ⋯ &   6.000000 &  4.000000 &  2.000000 &  1.000000 &   2.000000 &  1.00000 &  7.00000 &   0.000000 &  8.000000 &   2.000000\\\\\n\\end{tabular}\n",
            "text/markdown": "\nA data.frame: 6 × 181\n\n| <!--/--> | gene &lt;chr&gt; | L_136_05 &lt;dbl&gt; | L_173_00 &lt;dbl&gt; | L_112_05 &lt;dbl&gt; | L_282_00 &lt;dbl&gt; | L_133_00 &lt;dbl&gt; | L_150_00 &lt;dbl&gt; | L_210_00 &lt;dbl&gt; | L_200_00 &lt;dbl&gt; | L_329_00 &lt;dbl&gt; | ⋯ ⋯ | L_215_05 &lt;dbl&gt; | L_138_05 &lt;dbl&gt; | L_327_00 &lt;dbl&gt; | L_006_00 &lt;dbl&gt; | L_303_00 &lt;dbl&gt; | L_228_00 &lt;dbl&gt; | L_127_05 &lt;dbl&gt; | L_270_00 &lt;dbl&gt; | L_012_05 &lt;dbl&gt; | L_170_00 &lt;dbl&gt; |\n|---|---|---|---|---|---|---|---|---|---|---|---|---|---|---|---|---|---|---|---|---|---|\n| 1 | A1BG    | 48.190000 |  67.147200 |  60.425120 | 36.557020 |  55.23118 |  51.47126 | 5.3296400 | 33.031860 | 14.160684 | ⋯ |  55.914760 | 43.015040 | 19.025384 | 26.515500 |  35.594680 | 56.22052 | 66.05200 |  47.022000 | 49.202800 |  51.505480 |\n| 2 | A1CF    |  4.418025 |   5.041700 |   7.416575 |  3.544200 |   3.76895 |   4.53530 | 0.5029529 |  3.400800 |  1.260885 | ⋯ |   3.650300 |  4.013301 |  2.058282 |  2.780300 |   3.770475 |  6.65425 |  4.14415 |   4.410975 |  5.168000 |   4.524801 |\n| 3 | A2M     | 70.250913 | 178.432592 | 147.930626 | 78.076309 | 108.69165 | 217.29577 | 4.5384600 | 59.499458 | 21.805698 | ⋯ | 202.426185 | 52.529418 | 84.176595 | 20.139735 | 125.352274 | 60.13796 | 59.31767 | 205.144478 | 49.491946 | 115.535673 |\n| 4 | A2ML1   |  8.019005 |   8.232613 |   9.788901 |  5.859114 |  11.42191 |  11.27735 | 0.3762962 |  8.733236 |  3.507344 | ⋯ |   5.887839 |  7.272098 |  3.732381 |  6.948733 |   8.336410 | 11.74466 | 14.79050 |   7.522965 |  5.972265 |   7.544260 |\n| 5 | A2MP1   | 32.249992 |  98.999962 |  75.500068 | 36.499977 |  60.50004 | 121.75003 | 2.5000000 | 28.500008 |  6.249998 | ⋯ | 100.249900 | 38.499900 | 46.250108 |  7.000005 |  58.250107 | 25.99999 | 35.50002 | 104.000023 | 25.000007 |  48.000080 |\n| 6 | A3GALT2 |  1.000000 |   0.000000 |   4.000000 |  5.000000 |   1.00000 |   0.00000 | 1.0000000 |  7.000000 |  0.000000 | ⋯ |   6.000000 |  4.000000 |  2.000000 |  1.000000 |   2.000000 |  1.00000 |  7.00000 |   0.000000 |  8.000000 |   2.000000 |\n\n",
            "text/html": [
              "<table class=\"dataframe\">\n",
              "<caption>A data.frame: 6 × 181</caption>\n",
              "<thead>\n",
              "\t<tr><th></th><th scope=col>gene</th><th scope=col>L_136_05</th><th scope=col>L_173_00</th><th scope=col>L_112_05</th><th scope=col>L_282_00</th><th scope=col>L_133_00</th><th scope=col>L_150_00</th><th scope=col>L_210_00</th><th scope=col>L_200_00</th><th scope=col>L_329_00</th><th scope=col>⋯</th><th scope=col>L_215_05</th><th scope=col>L_138_05</th><th scope=col>L_327_00</th><th scope=col>L_006_00</th><th scope=col>L_303_00</th><th scope=col>L_228_00</th><th scope=col>L_127_05</th><th scope=col>L_270_00</th><th scope=col>L_012_05</th><th scope=col>L_170_00</th></tr>\n",
              "\t<tr><th></th><th scope=col>&lt;chr&gt;</th><th scope=col>&lt;dbl&gt;</th><th scope=col>&lt;dbl&gt;</th><th scope=col>&lt;dbl&gt;</th><th scope=col>&lt;dbl&gt;</th><th scope=col>&lt;dbl&gt;</th><th scope=col>&lt;dbl&gt;</th><th scope=col>&lt;dbl&gt;</th><th scope=col>&lt;dbl&gt;</th><th scope=col>&lt;dbl&gt;</th><th scope=col>⋯</th><th scope=col>&lt;dbl&gt;</th><th scope=col>&lt;dbl&gt;</th><th scope=col>&lt;dbl&gt;</th><th scope=col>&lt;dbl&gt;</th><th scope=col>&lt;dbl&gt;</th><th scope=col>&lt;dbl&gt;</th><th scope=col>&lt;dbl&gt;</th><th scope=col>&lt;dbl&gt;</th><th scope=col>&lt;dbl&gt;</th><th scope=col>&lt;dbl&gt;</th></tr>\n",
              "</thead>\n",
              "<tbody>\n",
              "\t<tr><th scope=row>1</th><td>A1BG   </td><td>48.190000</td><td> 67.147200</td><td> 60.425120</td><td>36.557020</td><td> 55.23118</td><td> 51.47126</td><td>5.3296400</td><td>33.031860</td><td>14.160684</td><td>⋯</td><td> 55.914760</td><td>43.015040</td><td>19.025384</td><td>26.515500</td><td> 35.594680</td><td>56.22052</td><td>66.05200</td><td> 47.022000</td><td>49.202800</td><td> 51.505480</td></tr>\n",
              "\t<tr><th scope=row>2</th><td>A1CF   </td><td> 4.418025</td><td>  5.041700</td><td>  7.416575</td><td> 3.544200</td><td>  3.76895</td><td>  4.53530</td><td>0.5029529</td><td> 3.400800</td><td> 1.260885</td><td>⋯</td><td>  3.650300</td><td> 4.013301</td><td> 2.058282</td><td> 2.780300</td><td>  3.770475</td><td> 6.65425</td><td> 4.14415</td><td>  4.410975</td><td> 5.168000</td><td>  4.524801</td></tr>\n",
              "\t<tr><th scope=row>3</th><td>A2M    </td><td>70.250913</td><td>178.432592</td><td>147.930626</td><td>78.076309</td><td>108.69165</td><td>217.29577</td><td>4.5384600</td><td>59.499458</td><td>21.805698</td><td>⋯</td><td>202.426185</td><td>52.529418</td><td>84.176595</td><td>20.139735</td><td>125.352274</td><td>60.13796</td><td>59.31767</td><td>205.144478</td><td>49.491946</td><td>115.535673</td></tr>\n",
              "\t<tr><th scope=row>4</th><td>A2ML1  </td><td> 8.019005</td><td>  8.232613</td><td>  9.788901</td><td> 5.859114</td><td> 11.42191</td><td> 11.27735</td><td>0.3762962</td><td> 8.733236</td><td> 3.507344</td><td>⋯</td><td>  5.887839</td><td> 7.272098</td><td> 3.732381</td><td> 6.948733</td><td>  8.336410</td><td>11.74466</td><td>14.79050</td><td>  7.522965</td><td> 5.972265</td><td>  7.544260</td></tr>\n",
              "\t<tr><th scope=row>5</th><td>A2MP1  </td><td>32.249992</td><td> 98.999962</td><td> 75.500068</td><td>36.499977</td><td> 60.50004</td><td>121.75003</td><td>2.5000000</td><td>28.500008</td><td> 6.249998</td><td>⋯</td><td>100.249900</td><td>38.499900</td><td>46.250108</td><td> 7.000005</td><td> 58.250107</td><td>25.99999</td><td>35.50002</td><td>104.000023</td><td>25.000007</td><td> 48.000080</td></tr>\n",
              "\t<tr><th scope=row>6</th><td>A3GALT2</td><td> 1.000000</td><td>  0.000000</td><td>  4.000000</td><td> 5.000000</td><td>  1.00000</td><td>  0.00000</td><td>1.0000000</td><td> 7.000000</td><td> 0.000000</td><td>⋯</td><td>  6.000000</td><td> 4.000000</td><td> 2.000000</td><td> 1.000000</td><td>  2.000000</td><td> 1.00000</td><td> 7.00000</td><td>  0.000000</td><td> 8.000000</td><td>  2.000000</td></tr>\n",
              "</tbody>\n",
              "</table>\n"
            ]
          },
          "metadata": {}
        }
      ]
    },
    {
      "cell_type": "code",
      "source": [
        "dim(aggregate)"
      ],
      "metadata": {
        "colab": {
          "base_uri": "https://localhost:8080/",
          "height": 34
        },
        "id": "u0C7qRqDq_UH",
        "outputId": "5366c080-4781-4ac2-b66e-ea8f3c48f0c3"
      },
      "execution_count": null,
      "outputs": [
        {
          "output_type": "display_data",
          "data": {
            "text/plain": [
              "[1] 34561   181"
            ],
            "text/latex": "\\begin{enumerate*}\n\\item 34561\n\\item 181\n\\end{enumerate*}\n",
            "text/markdown": "1. 34561\n2. 181\n\n\n",
            "text/html": [
              "<style>\n",
              ".list-inline {list-style: none; margin:0; padding: 0}\n",
              ".list-inline>li {display: inline-block}\n",
              ".list-inline>li:not(:last-child)::after {content: \"\\00b7\"; padding: 0 .5ex}\n",
              "</style>\n",
              "<ol class=list-inline><li>34561</li><li>181</li></ol>\n"
            ]
          },
          "metadata": {}
        }
      ]
    },
    {
      "cell_type": "markdown",
      "source": [
        "the dimension of previous formula was 34560 181. here we have 34561 i.e., one additional row for NA1. After downloading now we can remove NA1 and proceed with PCA and DESEQ2. but we will proceed with Aggregate_data.txt file. "
      ],
      "metadata": {
        "id": "m45AT1INv9gw"
      }
    },
    {
      "cell_type": "code",
      "source": [
        "write.table(data.frame('ID'=rownames(aggregate), aggregate),file=\"GSE178967_Aggregate_data.txt\",sep='\\t',quote = F,row.names = FALSE)"
      ],
      "metadata": {
        "id": "hx_KwDdErJVr"
      },
      "execution_count": null,
      "outputs": []
    }
  ]
}