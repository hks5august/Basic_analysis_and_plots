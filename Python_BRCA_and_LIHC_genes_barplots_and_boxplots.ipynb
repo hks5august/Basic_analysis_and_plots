{
  "nbformat": 4,
  "nbformat_minor": 0,
  "metadata": {
    "colab": {
      "name": "Python - BRCA and LIHC genes - barplots and boxplots.ipynb",
      "provenance": [],
      "collapsed_sections": []
    },
    "kernelspec": {
      "name": "python3",
      "display_name": "Python 3"
    },
    "language_info": {
      "name": "python"
    }
  },
  "cells": [
    {
      "cell_type": "markdown",
      "metadata": {
        "id": "phJaKIjvFccY"
      },
      "source": [
        "# BARPLOTS - visualize a single row (gene)"
      ]
    },
    {
      "cell_type": "markdown",
      "metadata": {
        "id": "iUcfgbopp3KT"
      },
      "source": [
        "Import packages:\n",
        "\n",
        "\n",
        "*   https://numpy.org\n",
        "*   https://pandas.pydata.org/about/index.html\n",
        "\n"
      ]
    },
    {
      "cell_type": "code",
      "metadata": {
        "id": "bB8ZSiCidXdP",
        "outputId": "e6556fe8-f9b9-418c-b0bb-0db7445f948a",
        "colab": {
          "base_uri": "https://localhost:8080/",
          "height": 175
        }
      },
      "source": [
        "#import pandas\n",
        "import pandas as pd\n",
        "import numpy as np\n",
        "df = pd.read_csv('https://code.omicslogic.com/assets/datasets/samples/Biology_Height_dataset.csv', sep=\";\")\n",
        "df"
      ],
      "execution_count": null,
      "outputs": [
        {
          "output_type": "execute_result",
          "data": {
            "text/html": [
              "<div>\n",
              "<style scoped>\n",
              "    .dataframe tbody tr th:only-of-type {\n",
              "        vertical-align: middle;\n",
              "    }\n",
              "\n",
              "    .dataframe tbody tr th {\n",
              "        vertical-align: top;\n",
              "    }\n",
              "\n",
              "    .dataframe thead th {\n",
              "        text-align: right;\n",
              "    }\n",
              "</style>\n",
              "<table border=\"1\" class=\"dataframe\">\n",
              "  <thead>\n",
              "    <tr style=\"text-align: right;\">\n",
              "      <th></th>\n",
              "      <th>Unnamed: 0</th>\n",
              "      <th>Flower</th>\n",
              "      <th>Tree</th>\n",
              "      <th>Bird</th>\n",
              "    </tr>\n",
              "  </thead>\n",
              "  <tbody>\n",
              "    <tr>\n",
              "      <th>0</th>\n",
              "      <td>Specimen 1</td>\n",
              "      <td>15.2</td>\n",
              "      <td>1700.9</td>\n",
              "      <td>28.9</td>\n",
              "    </tr>\n",
              "    <tr>\n",
              "      <th>1</th>\n",
              "      <td>Specimen 2</td>\n",
              "      <td>13.5</td>\n",
              "      <td>1800.0</td>\n",
              "      <td>23.3</td>\n",
              "    </tr>\n",
              "    <tr>\n",
              "      <th>2</th>\n",
              "      <td>Specimen 3</td>\n",
              "      <td>14.2</td>\n",
              "      <td>1300.6</td>\n",
              "      <td>27.5</td>\n",
              "    </tr>\n",
              "    <tr>\n",
              "      <th>3</th>\n",
              "      <td>Specimen 4</td>\n",
              "      <td>11.8</td>\n",
              "      <td>1500.0</td>\n",
              "      <td>27.6</td>\n",
              "    </tr>\n",
              "  </tbody>\n",
              "</table>\n",
              "</div>"
            ],
            "text/plain": [
              "   Unnamed: 0  Flower    Tree  Bird\n",
              "0  Specimen 1    15.2  1700.9  28.9\n",
              "1  Specimen 2    13.5  1800.0  23.3\n",
              "2  Specimen 3    14.2  1300.6  27.5\n",
              "3  Specimen 4    11.8  1500.0  27.6"
            ]
          },
          "metadata": {},
          "execution_count": 2
        }
      ]
    },
    {
      "cell_type": "markdown",
      "metadata": {
        "id": "Ok8ZAu2VqDer"
      },
      "source": [
        "load data:\n",
        "\n",
        "\n",
        "*   https://raw.githubusercontent.com/PineBiotech/omicslogic/master/LIHC_BRCA_data1_marked.txt\n"
      ]
    },
    {
      "cell_type": "markdown",
      "metadata": {
        "id": "mXP0w7fNrMpl"
      },
      "source": [
        "Let's load a genomic, a transcriptomic and a metagenomic dataset"
      ]
    },
    {
      "cell_type": "code",
      "metadata": {
        "id": "kssAvyYWrPoe",
        "colab": {
          "base_uri": "https://localhost:8080/",
          "height": 255
        },
        "outputId": "7e0e9979-b7cf-48d0-9d80-291896b30d4e"
      },
      "source": [
        "#load data\n",
        "GeneExpression = pd.read_table('https://raw.githubusercontent.com/PineBiotech/omicslogic/master/LIHC_BRCA_data1_marked.txt')\n",
        "\n",
        "#preview data\n",
        "GeneExpression.head()"
      ],
      "execution_count": null,
      "outputs": [
        {
          "output_type": "execute_result",
          "data": {
            "text/html": [
              "<div>\n",
              "<style scoped>\n",
              "    .dataframe tbody tr th:only-of-type {\n",
              "        vertical-align: middle;\n",
              "    }\n",
              "\n",
              "    .dataframe tbody tr th {\n",
              "        vertical-align: top;\n",
              "    }\n",
              "\n",
              "    .dataframe thead th {\n",
              "        text-align: right;\n",
              "    }\n",
              "</style>\n",
              "<table border=\"1\" class=\"dataframe\">\n",
              "  <thead>\n",
              "    <tr style=\"text-align: right;\">\n",
              "      <th></th>\n",
              "      <th>Id</th>\n",
              "      <th>TCGA-2V-A95S-01A-11R-A37K-07_LIHC_TP</th>\n",
              "      <th>TCGA-2Y-A9GS-01A-12R-A38B-07_LIHC_TP</th>\n",
              "      <th>TCGA-2Y-A9GU-01A-11R-A38B-07_LIHC_TP</th>\n",
              "      <th>TCGA-BC-A10Q-11A-11R-A131-07_LIHC_NT</th>\n",
              "      <th>TCGA-BC-A10T-11A-11R-A131-07_LIHC_NT</th>\n",
              "      <th>TCGA-BC-A10W-11A-11R-A131-07_LIHC_NT</th>\n",
              "      <th>TCGA-3C-AAAU-01A-11R-A41B-07_BRCA_TP</th>\n",
              "      <th>TCGA-3C-AALJ-01A-31R-A41B-07_BRCA_TP</th>\n",
              "      <th>TCGA-3C-AALK-01A-11R-A41B-07_BRCA_TP</th>\n",
              "      <th>TCGA-A7-A0CE-11A-21R-A089-07_BRCA_NT</th>\n",
              "      <th>TCGA-A7-A0CH-11A-32R-A089-07_BRCA_NT</th>\n",
              "      <th>TCGA-A7-A0D9-11A-53R-A089-07_BRCA_NT</th>\n",
              "    </tr>\n",
              "  </thead>\n",
              "  <tbody>\n",
              "    <tr>\n",
              "      <th>0</th>\n",
              "      <td>class</td>\n",
              "      <td>LIHC_TP</td>\n",
              "      <td>LIHC_TP</td>\n",
              "      <td>LIHC_TP</td>\n",
              "      <td>LIHC_NT</td>\n",
              "      <td>LIHC_NT</td>\n",
              "      <td>LIHC_NT</td>\n",
              "      <td>BRCA_TP</td>\n",
              "      <td>BRCA_TP</td>\n",
              "      <td>BRCA_TP</td>\n",
              "      <td>BRCA_NT</td>\n",
              "      <td>BRCA_NT</td>\n",
              "      <td>BRCA_NT</td>\n",
              "    </tr>\n",
              "    <tr>\n",
              "      <th>1</th>\n",
              "      <td>a100130426</td>\n",
              "      <td>0</td>\n",
              "      <td>0</td>\n",
              "      <td>0</td>\n",
              "      <td>0</td>\n",
              "      <td>0</td>\n",
              "      <td>0</td>\n",
              "      <td>0</td>\n",
              "      <td>0.9066</td>\n",
              "      <td>0</td>\n",
              "      <td>0</td>\n",
              "      <td>0</td>\n",
              "      <td>0</td>\n",
              "    </tr>\n",
              "    <tr>\n",
              "      <th>2</th>\n",
              "      <td>a100133144</td>\n",
              "      <td>2.31</td>\n",
              "      <td>53.59</td>\n",
              "      <td>6.86</td>\n",
              "      <td>2</td>\n",
              "      <td>1.41</td>\n",
              "      <td>4.94</td>\n",
              "      <td>16.3644</td>\n",
              "      <td>11.6228</td>\n",
              "      <td>12.0894</td>\n",
              "      <td>4.3333</td>\n",
              "      <td>4.2087</td>\n",
              "      <td>3.055</td>\n",
              "    </tr>\n",
              "    <tr>\n",
              "      <th>3</th>\n",
              "      <td>a100134869</td>\n",
              "      <td>5.69</td>\n",
              "      <td>5.41</td>\n",
              "      <td>6.14</td>\n",
              "      <td>0</td>\n",
              "      <td>2.59</td>\n",
              "      <td>1.06</td>\n",
              "      <td>12.9316</td>\n",
              "      <td>9.2294</td>\n",
              "      <td>11.0799</td>\n",
              "      <td>3.9206</td>\n",
              "      <td>2.1852</td>\n",
              "      <td>0</td>\n",
              "    </tr>\n",
              "    <tr>\n",
              "      <th>4</th>\n",
              "      <td>a10357</td>\n",
              "      <td>138.3</td>\n",
              "      <td>144.07</td>\n",
              "      <td>73.93</td>\n",
              "      <td>103.92</td>\n",
              "      <td>96.89</td>\n",
              "      <td>97.03</td>\n",
              "      <td>52.1503</td>\n",
              "      <td>154.2974</td>\n",
              "      <td>143.8643</td>\n",
              "      <td>78.9238</td>\n",
              "      <td>53.638</td>\n",
              "      <td>87.5764</td>\n",
              "    </tr>\n",
              "  </tbody>\n",
              "</table>\n",
              "</div>"
            ],
            "text/plain": [
              "           Id  ... TCGA-A7-A0D9-11A-53R-A089-07_BRCA_NT\n",
              "0       class  ...                              BRCA_NT\n",
              "1  a100130426  ...                                    0\n",
              "2  a100133144  ...                                3.055\n",
              "3  a100134869  ...                                    0\n",
              "4      a10357  ...                              87.5764\n",
              "\n",
              "[5 rows x 13 columns]"
            ]
          },
          "metadata": {},
          "execution_count": 2
        }
      ]
    },
    {
      "cell_type": "markdown",
      "metadata": {
        "id": "_srajZOIruTv"
      },
      "source": [
        "Each row represents a gene and each column represents a sample. This dataset is  taken from the cancer genome atlas (TCGA) with 2 cancer types - liver and breast (LIHC - hepatocellular carcinoma; BRCA - breast cancer)"
      ]
    },
    {
      "cell_type": "code",
      "metadata": {
        "id": "JdZTfueVrwwB",
        "colab": {
          "base_uri": "https://localhost:8080/",
          "height": 286
        },
        "outputId": "49b27054-a0b5-44aa-e85b-44427d1dd5dd"
      },
      "source": [
        "#Set index\n",
        "GeneExpression.index = GeneExpression.Id\n",
        "\n",
        "#clean up extra columns\n",
        "GeneExpression = GeneExpression.drop(['class'], axis = 0) # axis sets row or column to drop {0 or ‘index’, 1 or ‘columns’}\n",
        "GeneExpression = GeneExpression.drop(['Id'], axis = 1) \n",
        "\n",
        "#preview data\n",
        "GeneExpression.head()"
      ],
      "execution_count": null,
      "outputs": [
        {
          "output_type": "execute_result",
          "data": {
            "text/html": [
              "<div>\n",
              "<style scoped>\n",
              "    .dataframe tbody tr th:only-of-type {\n",
              "        vertical-align: middle;\n",
              "    }\n",
              "\n",
              "    .dataframe tbody tr th {\n",
              "        vertical-align: top;\n",
              "    }\n",
              "\n",
              "    .dataframe thead th {\n",
              "        text-align: right;\n",
              "    }\n",
              "</style>\n",
              "<table border=\"1\" class=\"dataframe\">\n",
              "  <thead>\n",
              "    <tr style=\"text-align: right;\">\n",
              "      <th></th>\n",
              "      <th>TCGA-2V-A95S-01A-11R-A37K-07_LIHC_TP</th>\n",
              "      <th>TCGA-2Y-A9GS-01A-12R-A38B-07_LIHC_TP</th>\n",
              "      <th>TCGA-2Y-A9GU-01A-11R-A38B-07_LIHC_TP</th>\n",
              "      <th>TCGA-BC-A10Q-11A-11R-A131-07_LIHC_NT</th>\n",
              "      <th>TCGA-BC-A10T-11A-11R-A131-07_LIHC_NT</th>\n",
              "      <th>TCGA-BC-A10W-11A-11R-A131-07_LIHC_NT</th>\n",
              "      <th>TCGA-3C-AAAU-01A-11R-A41B-07_BRCA_TP</th>\n",
              "      <th>TCGA-3C-AALJ-01A-31R-A41B-07_BRCA_TP</th>\n",
              "      <th>TCGA-3C-AALK-01A-11R-A41B-07_BRCA_TP</th>\n",
              "      <th>TCGA-A7-A0CE-11A-21R-A089-07_BRCA_NT</th>\n",
              "      <th>TCGA-A7-A0CH-11A-32R-A089-07_BRCA_NT</th>\n",
              "      <th>TCGA-A7-A0D9-11A-53R-A089-07_BRCA_NT</th>\n",
              "    </tr>\n",
              "    <tr>\n",
              "      <th>Id</th>\n",
              "      <th></th>\n",
              "      <th></th>\n",
              "      <th></th>\n",
              "      <th></th>\n",
              "      <th></th>\n",
              "      <th></th>\n",
              "      <th></th>\n",
              "      <th></th>\n",
              "      <th></th>\n",
              "      <th></th>\n",
              "      <th></th>\n",
              "      <th></th>\n",
              "    </tr>\n",
              "  </thead>\n",
              "  <tbody>\n",
              "    <tr>\n",
              "      <th>a100130426</th>\n",
              "      <td>0</td>\n",
              "      <td>0</td>\n",
              "      <td>0</td>\n",
              "      <td>0</td>\n",
              "      <td>0</td>\n",
              "      <td>0</td>\n",
              "      <td>0</td>\n",
              "      <td>0.9066</td>\n",
              "      <td>0</td>\n",
              "      <td>0</td>\n",
              "      <td>0</td>\n",
              "      <td>0</td>\n",
              "    </tr>\n",
              "    <tr>\n",
              "      <th>a100133144</th>\n",
              "      <td>2.31</td>\n",
              "      <td>53.59</td>\n",
              "      <td>6.86</td>\n",
              "      <td>2</td>\n",
              "      <td>1.41</td>\n",
              "      <td>4.94</td>\n",
              "      <td>16.3644</td>\n",
              "      <td>11.6228</td>\n",
              "      <td>12.0894</td>\n",
              "      <td>4.3333</td>\n",
              "      <td>4.2087</td>\n",
              "      <td>3.055</td>\n",
              "    </tr>\n",
              "    <tr>\n",
              "      <th>a100134869</th>\n",
              "      <td>5.69</td>\n",
              "      <td>5.41</td>\n",
              "      <td>6.14</td>\n",
              "      <td>0</td>\n",
              "      <td>2.59</td>\n",
              "      <td>1.06</td>\n",
              "      <td>12.9316</td>\n",
              "      <td>9.2294</td>\n",
              "      <td>11.0799</td>\n",
              "      <td>3.9206</td>\n",
              "      <td>2.1852</td>\n",
              "      <td>0</td>\n",
              "    </tr>\n",
              "    <tr>\n",
              "      <th>a10357</th>\n",
              "      <td>138.3</td>\n",
              "      <td>144.07</td>\n",
              "      <td>73.93</td>\n",
              "      <td>103.92</td>\n",
              "      <td>96.89</td>\n",
              "      <td>97.03</td>\n",
              "      <td>52.1503</td>\n",
              "      <td>154.2974</td>\n",
              "      <td>143.8643</td>\n",
              "      <td>78.9238</td>\n",
              "      <td>53.638</td>\n",
              "      <td>87.5764</td>\n",
              "    </tr>\n",
              "    <tr>\n",
              "      <th>a10431</th>\n",
              "      <td>1561</td>\n",
              "      <td>1297</td>\n",
              "      <td>1423</td>\n",
              "      <td>1454</td>\n",
              "      <td>1125</td>\n",
              "      <td>2128</td>\n",
              "      <td>408.076</td>\n",
              "      <td>1360.8341</td>\n",
              "      <td>865.5358</td>\n",
              "      <td>978.4127</td>\n",
              "      <td>970.7569</td>\n",
              "      <td>770.3666</td>\n",
              "    </tr>\n",
              "  </tbody>\n",
              "</table>\n",
              "</div>"
            ],
            "text/plain": [
              "           TCGA-2V-A95S-01A-11R-A37K-07_LIHC_TP  ... TCGA-A7-A0D9-11A-53R-A089-07_BRCA_NT\n",
              "Id                                               ...                                     \n",
              "a100130426                                    0  ...                                    0\n",
              "a100133144                                 2.31  ...                                3.055\n",
              "a100134869                                 5.69  ...                                    0\n",
              "a10357                                    138.3  ...                              87.5764\n",
              "a10431                                     1561  ...                             770.3666\n",
              "\n",
              "[5 rows x 12 columns]"
            ]
          },
          "metadata": {},
          "execution_count": 3
        }
      ]
    },
    {
      "cell_type": "markdown",
      "metadata": {
        "id": "LzbPUiqW-L-3"
      },
      "source": [
        "instead of checking the full dataset, sometimes it is useful to check the data type (what kind of data is this?). This can be important for various plotting techniques that require numeric data"
      ]
    },
    {
      "cell_type": "code",
      "metadata": {
        "id": "1weHvELP-N3z",
        "colab": {
          "base_uri": "https://localhost:8080/"
        },
        "outputId": "87196ee1-42f1-4ee8-d38a-51838f05e86f"
      },
      "source": [
        "GeneExpression.dtypes"
      ],
      "execution_count": null,
      "outputs": [
        {
          "output_type": "execute_result",
          "data": {
            "text/plain": [
              "TCGA-2V-A95S-01A-11R-A37K-07_LIHC_TP    object\n",
              "TCGA-2Y-A9GS-01A-12R-A38B-07_LIHC_TP    object\n",
              "TCGA-2Y-A9GU-01A-11R-A38B-07_LIHC_TP    object\n",
              "TCGA-BC-A10Q-11A-11R-A131-07_LIHC_NT    object\n",
              "TCGA-BC-A10T-11A-11R-A131-07_LIHC_NT    object\n",
              "TCGA-BC-A10W-11A-11R-A131-07_LIHC_NT    object\n",
              "TCGA-3C-AAAU-01A-11R-A41B-07_BRCA_TP    object\n",
              "TCGA-3C-AALJ-01A-31R-A41B-07_BRCA_TP    object\n",
              "TCGA-3C-AALK-01A-11R-A41B-07_BRCA_TP    object\n",
              "TCGA-A7-A0CE-11A-21R-A089-07_BRCA_NT    object\n",
              "TCGA-A7-A0CH-11A-32R-A089-07_BRCA_NT    object\n",
              "TCGA-A7-A0D9-11A-53R-A089-07_BRCA_NT    object\n",
              "dtype: object"
            ]
          },
          "metadata": {},
          "execution_count": 4
        }
      ]
    },
    {
      "cell_type": "markdown",
      "metadata": {
        "id": "FnCwoONgNOCJ"
      },
      "source": [
        "As you can see, your data is an \"object\" which is a generic data type that combines multiple types of data: numbers and strings. In order to plot this kind of data, we need to convert it to numeric. To check that each gene (row) is an object, we can use the pandas `dtype` function. Let's do that for a gene that is known to be amplified in breast cancer, ERBB2 (http://www.cancerindex.org/geneweb/ERBB2.htm)"
      ]
    },
    {
      "cell_type": "code",
      "metadata": {
        "id": "n3bVV7x7l_Zl",
        "colab": {
          "base_uri": "https://localhost:8080/"
        },
        "outputId": "5a314f12-0e23-43c4-dc3a-be62dae0c7b8"
      },
      "source": [
        "Gene1 = GeneExpression.loc['ERBB2|2064']\n",
        "Gene1.dtypes"
      ],
      "execution_count": null,
      "outputs": [
        {
          "output_type": "execute_result",
          "data": {
            "text/plain": [
              "dtype('O')"
            ]
          },
          "metadata": {},
          "execution_count": 5
        }
      ]
    },
    {
      "cell_type": "markdown",
      "metadata": {
        "id": "0TEANAmCTiJD"
      },
      "source": [
        "In order to look at the data visually, we need to convert the data to numeric and make a bar plot. "
      ]
    },
    {
      "cell_type": "code",
      "metadata": {
        "id": "Q-LqqKJSMRRy",
        "colab": {
          "base_uri": "https://localhost:8080/",
          "height": 504
        },
        "outputId": "cb6f6d63-bf7d-48c0-9a03-449396a12b32"
      },
      "source": [
        "pd.to_numeric(Gene1, errors='coerce').convert_dtypes().plot.bar(rot=90, title=\"ERBB2|2064 gene expression\")"
      ],
      "execution_count": null,
      "outputs": [
        {
          "output_type": "execute_result",
          "data": {
            "text/plain": [
              "<matplotlib.axes._subplots.AxesSubplot at 0x7fb203ab6910>"
            ]
          },
          "metadata": {},
          "execution_count": 6
        },
        {
          "output_type": "display_data",
          "data": {
            "image/png": "[encoded data removed]",
            "text/plain": [
              "<Figure size 432x288 with 1 Axes>"
            ]
          },
          "metadata": {
            "needs_background": "light"
          }
        }
      ]
    },
    {
      "cell_type": "markdown",
      "metadata": {
        "id": "OLmwU6koOYCt"
      },
      "source": [
        "As you can see, the gene is overexpressed in tumor samples from breast patients (BRCA_TP). Since variation between 35,000 and 1000 is quite large, let's see the data in logarithmic scale. This can be a way for us to understand whether the variation is consistent between groups of samples."
      ]
    },
    {
      "cell_type": "code",
      "metadata": {
        "id": "8quYIGow3ml_",
        "colab": {
          "base_uri": "https://localhost:8080/",
          "height": 504
        },
        "outputId": "10dae748-90cf-45e5-cf64-3a517397bef8"
      },
      "source": [
        "#convert data to numeric\n",
        "Gene1 = pd.to_numeric(Gene1, errors='coerce').convert_dtypes()\n",
        "\n",
        "#plot a bar plot for this gene with logarithmic y scale\n",
        "Gene1.plot.bar(rot=90, logy=True, title=\"ERBB2|2064 gene expression, Y in log scale\")"
      ],
      "execution_count": null,
      "outputs": [
        {
          "output_type": "execute_result",
          "data": {
            "text/plain": [
              "<matplotlib.axes._subplots.AxesSubplot at 0x7fb2039e49d0>"
            ]
          },
          "metadata": {},
          "execution_count": 7
        },
        {
          "output_type": "display_data",
          "data": {
            "image/png": "[encoded data removed]",
            "text/plain": [
              "<Figure size 432x288 with 1 Axes>"
            ]
          },
          "metadata": {
            "needs_background": "light"
          }
        }
      ]
    },
    {
      "cell_type": "markdown",
      "metadata": {
        "id": "CnsObdRmPCdu"
      },
      "source": [
        "THis plot gives us new insights about the ERBB gene - specifically, we can see that in Breast cancer, it is somewhat up-regulated, but in lung cancer it is also impacted, but the opposite direction - it is downregulated! We can see that because 2 out of 3 samples from tumor have a significantly lower expression than the normal samples. In order to explore this further, let's try to use an average between groups of samples."
      ]
    },
    {
      "cell_type": "markdown",
      "metadata": {
        "id": "dY0fpoXcFnfU"
      },
      "source": [
        "# Box Plots - summarize data\n",
        "(typically used to summarize several datapoints by group to understand key statistical properties)"
      ]
    },
    {
      "cell_type": "code",
      "metadata": {
        "id": "uFUM8IPvy3gN",
        "colab": {
          "base_uri": "https://localhost:8080/",
          "height": 501
        },
        "outputId": "65a443a0-05c4-4f8b-f9b8-62a45089552f"
      },
      "source": [
        "#load the full table\n",
        "GeneExpression1 = pd.read_table('https://raw.githubusercontent.com/PineBiotech/omicslogic/master/LIHC_BRCA_data1_marked.txt', header=None)\n",
        "\n",
        "#set the column names and row names\n",
        "GeneExpression1.columns = GeneExpression1.iloc[0]\n",
        "GeneExpression1.index = GeneExpression1.Id\n",
        "\n",
        "#remove duplicate ID row and column\n",
        "GeneExpression1 = GeneExpression1.drop(index='Id')\n",
        "GeneExpression1 = GeneExpression1.drop(['Id'], axis = 1) \n",
        "\n",
        "#change gene names to not include the problematic | sign\n",
        "GeneExpression1.index=GeneExpression1.index.str.replace('|','_')\n",
        "\n",
        "GeneExpression1"
      ],
      "execution_count": null,
      "outputs": [
        {
          "output_type": "execute_result",
          "data": {
            "text/html": [
              "<div>\n",
              "<style scoped>\n",
              "    .dataframe tbody tr th:only-of-type {\n",
              "        vertical-align: middle;\n",
              "    }\n",
              "\n",
              "    .dataframe tbody tr th {\n",
              "        vertical-align: top;\n",
              "    }\n",
              "\n",
              "    .dataframe thead th {\n",
              "        text-align: right;\n",
              "    }\n",
              "</style>\n",
              "<table border=\"1\" class=\"dataframe\">\n",
              "  <thead>\n",
              "    <tr style=\"text-align: right;\">\n",
              "      <th></th>\n",
              "      <th>TCGA-2V-A95S-01A-11R-A37K-07_LIHC_TP</th>\n",
              "      <th>TCGA-2Y-A9GS-01A-12R-A38B-07_LIHC_TP</th>\n",
              "      <th>TCGA-2Y-A9GU-01A-11R-A38B-07_LIHC_TP</th>\n",
              "      <th>TCGA-BC-A10Q-11A-11R-A131-07_LIHC_NT</th>\n",
              "      <th>TCGA-BC-A10T-11A-11R-A131-07_LIHC_NT</th>\n",
              "      <th>TCGA-BC-A10W-11A-11R-A131-07_LIHC_NT</th>\n",
              "      <th>TCGA-3C-AAAU-01A-11R-A41B-07_BRCA_TP</th>\n",
              "      <th>TCGA-3C-AALJ-01A-31R-A41B-07_BRCA_TP</th>\n",
              "      <th>TCGA-3C-AALK-01A-11R-A41B-07_BRCA_TP</th>\n",
              "      <th>TCGA-A7-A0CE-11A-21R-A089-07_BRCA_NT</th>\n",
              "      <th>TCGA-A7-A0CH-11A-32R-A089-07_BRCA_NT</th>\n",
              "      <th>TCGA-A7-A0D9-11A-53R-A089-07_BRCA_NT</th>\n",
              "    </tr>\n",
              "    <tr>\n",
              "      <th>Id</th>\n",
              "      <th></th>\n",
              "      <th></th>\n",
              "      <th></th>\n",
              "      <th></th>\n",
              "      <th></th>\n",
              "      <th></th>\n",
              "      <th></th>\n",
              "      <th></th>\n",
              "      <th></th>\n",
              "      <th></th>\n",
              "      <th></th>\n",
              "      <th></th>\n",
              "    </tr>\n",
              "  </thead>\n",
              "  <tbody>\n",
              "    <tr>\n",
              "      <th>class</th>\n",
              "      <td>LIHC_TP</td>\n",
              "      <td>LIHC_TP</td>\n",
              "      <td>LIHC_TP</td>\n",
              "      <td>LIHC_NT</td>\n",
              "      <td>LIHC_NT</td>\n",
              "      <td>LIHC_NT</td>\n",
              "      <td>BRCA_TP</td>\n",
              "      <td>BRCA_TP</td>\n",
              "      <td>BRCA_TP</td>\n",
              "      <td>BRCA_NT</td>\n",
              "      <td>BRCA_NT</td>\n",
              "      <td>BRCA_NT</td>\n",
              "    </tr>\n",
              "    <tr>\n",
              "      <th>a100130426</th>\n",
              "      <td>0</td>\n",
              "      <td>0</td>\n",
              "      <td>0</td>\n",
              "      <td>0</td>\n",
              "      <td>0</td>\n",
              "      <td>0</td>\n",
              "      <td>0</td>\n",
              "      <td>0.9066</td>\n",
              "      <td>0</td>\n",
              "      <td>0</td>\n",
              "      <td>0</td>\n",
              "      <td>0</td>\n",
              "    </tr>\n",
              "    <tr>\n",
              "      <th>a100133144</th>\n",
              "      <td>2.31</td>\n",
              "      <td>53.59</td>\n",
              "      <td>6.86</td>\n",
              "      <td>2</td>\n",
              "      <td>1.41</td>\n",
              "      <td>4.94</td>\n",
              "      <td>16.3644</td>\n",
              "      <td>11.6228</td>\n",
              "      <td>12.0894</td>\n",
              "      <td>4.3333</td>\n",
              "      <td>4.2087</td>\n",
              "      <td>3.055</td>\n",
              "    </tr>\n",
              "    <tr>\n",
              "      <th>a100134869</th>\n",
              "      <td>5.69</td>\n",
              "      <td>5.41</td>\n",
              "      <td>6.14</td>\n",
              "      <td>0</td>\n",
              "      <td>2.59</td>\n",
              "      <td>1.06</td>\n",
              "      <td>12.9316</td>\n",
              "      <td>9.2294</td>\n",
              "      <td>11.0799</td>\n",
              "      <td>3.9206</td>\n",
              "      <td>2.1852</td>\n",
              "      <td>0</td>\n",
              "    </tr>\n",
              "    <tr>\n",
              "      <th>a10357</th>\n",
              "      <td>138.3</td>\n",
              "      <td>144.07</td>\n",
              "      <td>73.93</td>\n",
              "      <td>103.92</td>\n",
              "      <td>96.89</td>\n",
              "      <td>97.03</td>\n",
              "      <td>52.1503</td>\n",
              "      <td>154.2974</td>\n",
              "      <td>143.8643</td>\n",
              "      <td>78.9238</td>\n",
              "      <td>53.638</td>\n",
              "      <td>87.5764</td>\n",
              "    </tr>\n",
              "    <tr>\n",
              "      <th>...</th>\n",
              "      <td>...</td>\n",
              "      <td>...</td>\n",
              "      <td>...</td>\n",
              "      <td>...</td>\n",
              "      <td>...</td>\n",
              "      <td>...</td>\n",
              "      <td>...</td>\n",
              "      <td>...</td>\n",
              "      <td>...</td>\n",
              "      <td>...</td>\n",
              "      <td>...</td>\n",
              "      <td>...</td>\n",
              "    </tr>\n",
              "    <tr>\n",
              "      <th>ZYX_7791</th>\n",
              "      <td>4869</td>\n",
              "      <td>10756</td>\n",
              "      <td>3708</td>\n",
              "      <td>2799</td>\n",
              "      <td>1661</td>\n",
              "      <td>4915</td>\n",
              "      <td>3507.2482</td>\n",
              "      <td>5458.7489</td>\n",
              "      <td>5691.3529</td>\n",
              "      <td>6455.873</td>\n",
              "      <td>6038.9281</td>\n",
              "      <td>2344.7047</td>\n",
              "    </tr>\n",
              "    <tr>\n",
              "      <th>ZZEF1_23140</th>\n",
              "      <td>1366</td>\n",
              "      <td>1533</td>\n",
              "      <td>1606</td>\n",
              "      <td>493</td>\n",
              "      <td>320</td>\n",
              "      <td>638</td>\n",
              "      <td>1894.9342</td>\n",
              "      <td>942.883</td>\n",
              "      <td>781.1336</td>\n",
              "      <td>1314.2857</td>\n",
              "      <td>1477.386</td>\n",
              "      <td>1997.9633</td>\n",
              "    </tr>\n",
              "    <tr>\n",
              "      <th>ZZZ3_26009</th>\n",
              "      <td>783</td>\n",
              "      <td>1746</td>\n",
              "      <td>412</td>\n",
              "      <td>486</td>\n",
              "      <td>694</td>\n",
              "      <td>482</td>\n",
              "      <td>1180.4565</td>\n",
              "      <td>509.5195</td>\n",
              "      <td>700.8688</td>\n",
              "      <td>968.254</td>\n",
              "      <td>620.9685</td>\n",
              "      <td>730.6517</td>\n",
              "    </tr>\n",
              "    <tr>\n",
              "      <th>psiTPTE22_387590</th>\n",
              "      <td>6</td>\n",
              "      <td>13</td>\n",
              "      <td>3</td>\n",
              "      <td>14</td>\n",
              "      <td>2</td>\n",
              "      <td>13</td>\n",
              "      <td>1.7233</td>\n",
              "      <td>35.3581</td>\n",
              "      <td>66.6115</td>\n",
              "      <td>265.3968</td>\n",
              "      <td>466.7607</td>\n",
              "      <td>346.7413</td>\n",
              "    </tr>\n",
              "    <tr>\n",
              "      <th>tAKR_389932</th>\n",
              "      <td>10</td>\n",
              "      <td>980</td>\n",
              "      <td>3</td>\n",
              "      <td>167</td>\n",
              "      <td>68</td>\n",
              "      <td>107</td>\n",
              "      <td>0</td>\n",
              "      <td>0</td>\n",
              "      <td>0</td>\n",
              "      <td>0.3175</td>\n",
              "      <td>0</td>\n",
              "      <td>0</td>\n",
              "    </tr>\n",
              "  </tbody>\n",
              "</table>\n",
              "<p>20532 rows × 12 columns</p>\n",
              "</div>"
            ],
            "text/plain": [
              "0                TCGA-2V-A95S-01A-11R-A37K-07_LIHC_TP  ... TCGA-A7-A0D9-11A-53R-A089-07_BRCA_NT\n",
              "Id                                                     ...                                     \n",
              "class                                         LIHC_TP  ...                              BRCA_NT\n",
              "a100130426                                          0  ...                                    0\n",
              "a100133144                                       2.31  ...                                3.055\n",
              "a100134869                                       5.69  ...                                    0\n",
              "a10357                                          138.3  ...                              87.5764\n",
              "...                                               ...  ...                                  ...\n",
              "ZYX_7791                                         4869  ...                            2344.7047\n",
              "ZZEF1_23140                                      1366  ...                            1997.9633\n",
              "ZZZ3_26009                                        783  ...                             730.6517\n",
              "psiTPTE22_387590                                    6  ...                             346.7413\n",
              "tAKR_389932                                        10  ...                                    0\n",
              "\n",
              "[20532 rows x 12 columns]"
            ]
          },
          "metadata": {},
          "execution_count": 16
        }
      ]
    },
    {
      "cell_type": "code",
      "metadata": {
        "id": "hL8TKLQOtOtX",
        "colab": {
          "base_uri": "https://localhost:8080/",
          "height": 501
        },
        "outputId": "a64b40fc-d36e-486b-ad58-e2cf55a22172"
      },
      "source": [
        "#fix the problematic \"class\" label\n",
        "GeneExpression1 = GeneExpression1.rename(index={'class':'Group'})\n",
        "\n",
        "#transpose the data frame\n",
        "GeneExpression1 = GeneExpression1.transpose()\n",
        "\n",
        "#make sure the data is numeric\n",
        "GeneExpression1 = GeneExpression1.apply(pd.to_numeric, errors=\"ignore\")\n",
        "\n",
        "#check the data\n",
        "GeneExpression1"
      ],
      "execution_count": null,
      "outputs": [
        {
          "output_type": "execute_result",
          "data": {
            "text/html": [
              "<div>\n",
              "<style scoped>\n",
              "    .dataframe tbody tr th:only-of-type {\n",
              "        vertical-align: middle;\n",
              "    }\n",
              "\n",
              "    .dataframe tbody tr th {\n",
              "        vertical-align: top;\n",
              "    }\n",
              "\n",
              "    .dataframe thead th {\n",
              "        text-align: right;\n",
              "    }\n",
              "</style>\n",
              "<table border=\"1\" class=\"dataframe\">\n",
              "  <thead>\n",
              "    <tr style=\"text-align: right;\">\n",
              "      <th></th>\n",
              "      <th>TCGA-2V-A95S-01A-11R-A37K-07_LIHC_TP</th>\n",
              "      <th>TCGA-2Y-A9GS-01A-12R-A38B-07_LIHC_TP</th>\n",
              "      <th>TCGA-2Y-A9GU-01A-11R-A38B-07_LIHC_TP</th>\n",
              "      <th>TCGA-BC-A10Q-11A-11R-A131-07_LIHC_NT</th>\n",
              "      <th>TCGA-BC-A10T-11A-11R-A131-07_LIHC_NT</th>\n",
              "      <th>TCGA-BC-A10W-11A-11R-A131-07_LIHC_NT</th>\n",
              "      <th>TCGA-3C-AAAU-01A-11R-A41B-07_BRCA_TP</th>\n",
              "      <th>TCGA-3C-AALJ-01A-31R-A41B-07_BRCA_TP</th>\n",
              "      <th>TCGA-3C-AALK-01A-11R-A41B-07_BRCA_TP</th>\n",
              "      <th>TCGA-A7-A0CE-11A-21R-A089-07_BRCA_NT</th>\n",
              "      <th>TCGA-A7-A0CH-11A-32R-A089-07_BRCA_NT</th>\n",
              "      <th>TCGA-A7-A0D9-11A-53R-A089-07_BRCA_NT</th>\n",
              "    </tr>\n",
              "    <tr>\n",
              "      <th>Id</th>\n",
              "      <th></th>\n",
              "      <th></th>\n",
              "      <th></th>\n",
              "      <th></th>\n",
              "      <th></th>\n",
              "      <th></th>\n",
              "      <th></th>\n",
              "      <th></th>\n",
              "      <th></th>\n",
              "      <th></th>\n",
              "      <th></th>\n",
              "      <th></th>\n",
              "    </tr>\n",
              "  </thead>\n",
              "  <tbody>\n",
              "    <tr>\n",
              "      <th>Group</th>\n",
              "      <td>LIHC_TP</td>\n",
              "      <td>LIHC_TP</td>\n",
              "      <td>LIHC_TP</td>\n",
              "      <td>LIHC_NT</td>\n",
              "      <td>LIHC_NT</td>\n",
              "      <td>LIHC_NT</td>\n",
              "      <td>BRCA_TP</td>\n",
              "      <td>BRCA_TP</td>\n",
              "      <td>BRCA_TP</td>\n",
              "      <td>BRCA_NT</td>\n",
              "      <td>BRCA_NT</td>\n",
              "      <td>BRCA_NT</td>\n",
              "    </tr>\n",
              "    <tr>\n",
              "      <th>a100130426</th>\n",
              "      <td>0</td>\n",
              "      <td>0</td>\n",
              "      <td>0</td>\n",
              "      <td>0</td>\n",
              "      <td>0</td>\n",
              "      <td>0</td>\n",
              "      <td>0</td>\n",
              "      <td>0.9066</td>\n",
              "      <td>0</td>\n",
              "      <td>0</td>\n",
              "      <td>0</td>\n",
              "      <td>0</td>\n",
              "    </tr>\n",
              "    <tr>\n",
              "      <th>a100133144</th>\n",
              "      <td>2.31</td>\n",
              "      <td>53.59</td>\n",
              "      <td>6.86</td>\n",
              "      <td>2</td>\n",
              "      <td>1.41</td>\n",
              "      <td>4.94</td>\n",
              "      <td>16.3644</td>\n",
              "      <td>11.6228</td>\n",
              "      <td>12.0894</td>\n",
              "      <td>4.3333</td>\n",
              "      <td>4.2087</td>\n",
              "      <td>3.055</td>\n",
              "    </tr>\n",
              "    <tr>\n",
              "      <th>a100134869</th>\n",
              "      <td>5.69</td>\n",
              "      <td>5.41</td>\n",
              "      <td>6.14</td>\n",
              "      <td>0</td>\n",
              "      <td>2.59</td>\n",
              "      <td>1.06</td>\n",
              "      <td>12.9316</td>\n",
              "      <td>9.2294</td>\n",
              "      <td>11.0799</td>\n",
              "      <td>3.9206</td>\n",
              "      <td>2.1852</td>\n",
              "      <td>0</td>\n",
              "    </tr>\n",
              "    <tr>\n",
              "      <th>a10357</th>\n",
              "      <td>138.3</td>\n",
              "      <td>144.07</td>\n",
              "      <td>73.93</td>\n",
              "      <td>103.92</td>\n",
              "      <td>96.89</td>\n",
              "      <td>97.03</td>\n",
              "      <td>52.1503</td>\n",
              "      <td>154.297</td>\n",
              "      <td>143.864</td>\n",
              "      <td>78.9238</td>\n",
              "      <td>53.638</td>\n",
              "      <td>87.5764</td>\n",
              "    </tr>\n",
              "    <tr>\n",
              "      <th>...</th>\n",
              "      <td>...</td>\n",
              "      <td>...</td>\n",
              "      <td>...</td>\n",
              "      <td>...</td>\n",
              "      <td>...</td>\n",
              "      <td>...</td>\n",
              "      <td>...</td>\n",
              "      <td>...</td>\n",
              "      <td>...</td>\n",
              "      <td>...</td>\n",
              "      <td>...</td>\n",
              "      <td>...</td>\n",
              "    </tr>\n",
              "    <tr>\n",
              "      <th>ZYX_7791</th>\n",
              "      <td>4869</td>\n",
              "      <td>10756</td>\n",
              "      <td>3708</td>\n",
              "      <td>2799</td>\n",
              "      <td>1661</td>\n",
              "      <td>4915</td>\n",
              "      <td>3507.25</td>\n",
              "      <td>5458.75</td>\n",
              "      <td>5691.35</td>\n",
              "      <td>6455.87</td>\n",
              "      <td>6038.93</td>\n",
              "      <td>2344.7</td>\n",
              "    </tr>\n",
              "    <tr>\n",
              "      <th>ZZEF1_23140</th>\n",
              "      <td>1366</td>\n",
              "      <td>1533</td>\n",
              "      <td>1606</td>\n",
              "      <td>493</td>\n",
              "      <td>320</td>\n",
              "      <td>638</td>\n",
              "      <td>1894.93</td>\n",
              "      <td>942.883</td>\n",
              "      <td>781.134</td>\n",
              "      <td>1314.29</td>\n",
              "      <td>1477.39</td>\n",
              "      <td>1997.96</td>\n",
              "    </tr>\n",
              "    <tr>\n",
              "      <th>ZZZ3_26009</th>\n",
              "      <td>783</td>\n",
              "      <td>1746</td>\n",
              "      <td>412</td>\n",
              "      <td>486</td>\n",
              "      <td>694</td>\n",
              "      <td>482</td>\n",
              "      <td>1180.46</td>\n",
              "      <td>509.519</td>\n",
              "      <td>700.869</td>\n",
              "      <td>968.254</td>\n",
              "      <td>620.968</td>\n",
              "      <td>730.652</td>\n",
              "    </tr>\n",
              "    <tr>\n",
              "      <th>psiTPTE22_387590</th>\n",
              "      <td>6</td>\n",
              "      <td>13</td>\n",
              "      <td>3</td>\n",
              "      <td>14</td>\n",
              "      <td>2</td>\n",
              "      <td>13</td>\n",
              "      <td>1.7233</td>\n",
              "      <td>35.3581</td>\n",
              "      <td>66.6115</td>\n",
              "      <td>265.397</td>\n",
              "      <td>466.761</td>\n",
              "      <td>346.741</td>\n",
              "    </tr>\n",
              "    <tr>\n",
              "      <th>tAKR_389932</th>\n",
              "      <td>10</td>\n",
              "      <td>980</td>\n",
              "      <td>3</td>\n",
              "      <td>167</td>\n",
              "      <td>68</td>\n",
              "      <td>107</td>\n",
              "      <td>0</td>\n",
              "      <td>0</td>\n",
              "      <td>0</td>\n",
              "      <td>0.3175</td>\n",
              "      <td>0</td>\n",
              "      <td>0</td>\n",
              "    </tr>\n",
              "  </tbody>\n",
              "</table>\n",
              "<p>20532 rows × 12 columns</p>\n",
              "</div>"
            ],
            "text/plain": [
              "0                TCGA-2V-A95S-01A-11R-A37K-07_LIHC_TP  ... TCGA-A7-A0D9-11A-53R-A089-07_BRCA_NT\n",
              "Id                                                     ...                                     \n",
              "Group                                         LIHC_TP  ...                              BRCA_NT\n",
              "a100130426                                          0  ...                                    0\n",
              "a100133144                                       2.31  ...                                3.055\n",
              "a100134869                                       5.69  ...                                    0\n",
              "a10357                                          138.3  ...                              87.5764\n",
              "...                                               ...  ...                                  ...\n",
              "ZYX_7791                                         4869  ...                               2344.7\n",
              "ZZEF1_23140                                      1366  ...                              1997.96\n",
              "ZZZ3_26009                                        783  ...                              730.652\n",
              "psiTPTE22_387590                                    6  ...                              346.741\n",
              "tAKR_389932                                        10  ...                                    0\n",
              "\n",
              "[20532 rows x 12 columns]"
            ]
          },
          "metadata": {},
          "execution_count": 24
        }
      ]
    },
    {
      "cell_type": "markdown",
      "metadata": {
        "id": "8gO8ZxckVFJR"
      },
      "source": [
        "After the critical preparation of the data (note that we have transposed the data, making both columns available for easy calling by column name), it is easy to plot the data and explore variation across samples and conditions:\n",
        "\n",
        "\n",
        "\n",
        "*   NT - normal tissue\n",
        "*   TP - primary solid tumor \n",
        "*   LIHC - liver cancer (hepatocellular carcinoma)\n",
        "*   BRCA - breast cancer"
      ]
    },
    {
      "cell_type": "code",
      "metadata": {
        "id": "bwhowNGrikPW",
        "colab": {
          "base_uri": "https://localhost:8080/",
          "height": 498
        },
        "outputId": "7452c308-6072-4e52-c515-bf85f8154aa8"
      },
      "source": [
        "#make the boxplot for a gene\n",
        "GeneExpression1.boxplot(column='ERBB2_2064', by='Group', grid=False, figsize=(6, 7), patch_artist=True)"
      ],
      "execution_count": null,
      "outputs": [
        {
          "output_type": "execute_result",
          "data": {
            "text/plain": [
              "<matplotlib.axes._subplots.AxesSubplot at 0x7fb2032c76d0>"
            ]
          },
          "metadata": {},
          "execution_count": 12
        },
        {
          "output_type": "display_data",
          "data": {
            "image/png": "[encoded data removed]",
            "text/plain": [
              "<Figure size 432x504 with 1 Axes>"
            ]
          },
          "metadata": {
            "needs_background": "light"
          }
        }
      ]
    },
    {
      "cell_type": "code",
      "metadata": {
        "id": "bh2yqz60LaiO"
      },
      "source": [
        "GeneExpression1.ERBB2_2064.plot.bar(logy=True, title=\"ERBB2_2064 Expression - Bar Plot, Y in log scale\", figsize=(15, 7))"
      ],
      "execution_count": null,
      "outputs": []
    },
    {
      "cell_type": "code",
      "metadata": {
        "id": "71MrRP0lB4fo"
      },
      "source": [
        "#make the boxplot for a gene\n",
        "GeneExpression1.boxplot(column='CNDP1_84735', by='Group', grid=False, figsize=(15, 7), patch_artist=True)"
      ],
      "execution_count": null,
      "outputs": []
    },
    {
      "cell_type": "code",
      "metadata": {
        "id": "Hko-1vjCH1oB"
      },
      "source": [
        "GeneExpression1.CNDP1_84735.plot.bar(logy=True, title=\"CNDP1_84735 Bar Plot\", figsize=(15, 7))"
      ],
      "execution_count": null,
      "outputs": []
    },
    {
      "cell_type": "markdown",
      "metadata": {
        "id": "CyfeSp0RIvlA"
      },
      "source": [
        "combine both genes together:"
      ]
    },
    {
      "cell_type": "code",
      "metadata": {
        "id": "xKmCYz8lIyw5"
      },
      "source": [
        "Genes = GeneExpression1[['CNDP1_84735','ERBB2_2064']]\n",
        "Genes.plot.bar(logy=True, figsize=(15, 7))"
      ],
      "execution_count": null,
      "outputs": []
    },
    {
      "cell_type": "markdown",
      "metadata": {
        "id": "tnfpzBMzKUP_"
      },
      "source": [
        "However, the level of expression between these genes varies - what can you say about the significance of each gene? How would you compare them? Use words like **\"specificity\"** and **\"accuracy\"** to describe each one"
      ]
    },
    {
      "cell_type": "code",
      "metadata": {
        "id": "um4hs0OPJ6Jo"
      },
      "source": [
        "Genes.plot.bar(subplots=True, figsize=(15, 7))"
      ],
      "execution_count": null,
      "outputs": []
    },
    {
      "cell_type": "markdown",
      "metadata": {
        "id": "BLlO89ScYpQj"
      },
      "source": [
        "# Density Plots"
      ]
    },
    {
      "cell_type": "code",
      "metadata": {
        "id": "pLnxbYdtYZEt"
      },
      "source": [
        "GeneExpression1.groupby(['Group']).CNDP1_84735.plot.kde(legend=True)"
      ],
      "execution_count": null,
      "outputs": []
    },
    {
      "cell_type": "code",
      "metadata": {
        "id": "2nSDwvPGV-tI"
      },
      "source": [
        "GeneExpression1.groupby(['Group']).ERBB2_2064.plot.kde(legend=True)"
      ],
      "execution_count": null,
      "outputs": []
    },
    {
      "cell_type": "code",
      "metadata": {
        "id": "ZBO92vaoQrpa"
      },
      "source": [
        "#make the boxplot for a gene\n",
        "GeneExpression1.boxplot(column=['CNDP1_84735','ERBB2_2064'], by='Group', layout=(2,1), grid=False, figsize=(15, 7), patch_artist=True)"
      ],
      "execution_count": null,
      "outputs": []
    },
    {
      "cell_type": "markdown",
      "metadata": {
        "id": "BGRg11_gStWY"
      },
      "source": [
        "# Statistical Test Example: T-Test"
      ]
    },
    {
      "cell_type": "code",
      "metadata": {
        "id": "ASNPuBk6S-Ez"
      },
      "source": [
        "#to use t-test, we need to install a package called \"researchpy\"\n",
        "!pip install researchpy"
      ],
      "execution_count": null,
      "outputs": []
    },
    {
      "cell_type": "code",
      "metadata": {
        "id": "v5WMD4oZSxVD"
      },
      "source": [
        "#load packages\n",
        "import researchpy as rp\n",
        "import scipy.stats as stats"
      ],
      "execution_count": null,
      "outputs": []
    },
    {
      "cell_type": "code",
      "metadata": {
        "id": "0Fe7Ho_fSyrm"
      },
      "source": [
        "#run t-test statistics (INDEPDENT T-TEST USING RESEARCHPY)\n",
        "result, summary = rp.ttest(group1 = GeneExpression1['ERBB2_2064'][GeneExpression1['Group'] == 'BRCA_NT'], group1_name = \"BRCA_NT\",\n",
        "         group2 = GeneExpression1['ERBB2_2064'][GeneExpression1['Group'] == 'BRCA_TP'], group2_name = \"BRCA_TP\")\n",
        "\n",
        "print(summary)"
      ],
      "execution_count": null,
      "outputs": []
    },
    {
      "cell_type": "code",
      "metadata": {
        "id": "VyDXEiNfZru9"
      },
      "source": [
        "#run a more simple t-test (INDEPDENT T-TEST USING SCIPY.STATS)\n",
        "stats.ttest_ind(GeneExpression1['ERBB2_2064'][GeneExpression1['Group'] == 'BRCA_NT'], GeneExpression1['ERBB2_2064'][GeneExpression1['Group'] == 'BRCA_TP'])"
      ],
      "execution_count": null,
      "outputs": []
    },
    {
      "cell_type": "code",
      "metadata": {
        "id": "5PEF0z5YUU4U"
      },
      "source": [
        "result, summary = rp.ttest(group1 = GeneExpression1['CNDP1_84735'][GeneExpression1['Group'] == 'LIHC_NT'], group1_name = \"LIHC_NT\",\n",
        "         group2 = GeneExpression1['CNDP1_84735'][GeneExpression1['Group'] == 'LIHC_TP'], group2_name = \"LIHC_TP\")\n",
        "print(summary)"
      ],
      "execution_count": null,
      "outputs": []
    },
    {
      "cell_type": "code",
      "metadata": {
        "id": "6vl2iE_MannI"
      },
      "source": [
        "#run t-test for CNDP1 gene for the LIHC samples\n",
        "stats.ttest_ind(GeneExpression1['CNDP1_84735'][GeneExpression1['Group'] == 'LIHC_NT'], GeneExpression1['CNDP1_84735'][GeneExpression1['Group'] == 'LIHC_TP'])"
      ],
      "execution_count": null,
      "outputs": []
    },
    {
      "cell_type": "code",
      "metadata": {
        "id": "Dwu10iqXawlD"
      },
      "source": [
        "#run t-test for CNDP1 gene for the BRCA samples\n",
        "stats.ttest_ind(GeneExpression1['CNDP1_84735'][GeneExpression1['Group'] == 'BRCA_NT'], GeneExpression1['CNDP1_84735'][GeneExpression1['Group'] == 'BRCA_TP'])"
      ],
      "execution_count": null,
      "outputs": []
    },
    {
      "cell_type": "markdown",
      "metadata": {
        "id": "2iI57waksj_2"
      },
      "source": [
        "# Next Steps: Assignment\n",
        "1. perform T-test for all rows in this table\n",
        "2. Select only rows with a \"good\" p-value\n",
        "3. determine log fold change for each row (fold = mean of group 1 divided by mean of group 2; or if in log scale, mean of g1-mean of g2)\n",
        "4. prepare a dataframe of genes that are statistically significant and biologically meaningful in gene expression difference between groups\n",
        "5. prepare a summary - how many are significant, how many are up and/or down regulated in each condition; what are some genes that stood out? "
      ]
    }
  ]
}